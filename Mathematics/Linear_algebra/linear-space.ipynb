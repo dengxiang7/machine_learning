{
 "cells": [
  {
   "cell_type": "markdown",
   "metadata": {},
   "source": [
    " 子空间：  \n",
    "     子空间指的是维度小于全空间的部分空间。所谓空间指的是带有一些特定性质的的集合，故子空间可以算是子集合。  \n",
    "       \n",
    "  <br>  \n",
    "     \n",
    "   线性空间（又称为向量空间）：  \n",
    "   设V是一个非空集合，P是一个数域，若：  \n",
    "   1、在V种定义了一种运算，称为加法，即对V中任意两个元素$\\alpha$和$\\beta$，都按某一法则运算后，都与V中唯一一个确定元素$\\alpha +\\beta$对应  \n",
    "   2、在P与V之间定义一种运算；即对V中任意元素$\\alpha$，p中任意一元素K,两者之间按运算后结果，都与V中唯一一个确定运算$K\\alpha$对应  \n",
    "   3、在1，2中的加法和乘法要满足  \n",
    "   $\\qquad$1、$\\alpha +\\beta=\\beta + \\alpha \\;\\;$  \n",
    "   $\\qquad$2、$\\alpha +（\\beta+\\gamma）=(\\beta + \\alpha)+\\gamma \\;\\;$  \n",
    "   $\\qquad$3、$ 0\\in V \\;\\; \\alpha \\in V \\;\\; 0+\\alpha=\\alpha \\;\\;\\; $  \n",
    "   $\\qquad$4、对任意$ -\\alpha \\in V $都存在$ \\beta \\in V \\;\\;$使$\\alpha +\\beta=0 \\qquad$  \n",
    "   $\\qquad$5、对P中单元1，有$1\\alpha=\\alpha \\;\\;(\\alpha \\in V)$  \n",
    "   $\\qquad$6、对任意$k，l \\in P ，\\alpha \\in V $有$(kl)\\alpha=k（l\\alpha）$   \n",
    "   $\\qquad$7、对任意$k，l \\in P ，\\alpha \\in V $有$(k+l)\\alpha=k\\alpha +l\\alpha$  \n",
    "   $\\qquad$8、对任意$k \\in P ，\\alpha ,\\beta \\in V $有$k(\\alpha+\\beta)=k\\alpha + k\\beta$\n",
    "     \n",
    "   满足上述条件之后，则称**V是数域P上的一个线性空间**。  \n",
    "     \n",
    "   V中元素称为向量，V的零元素称为零向量。P称为线性空间的基域，当P是实数域时，V称为实线性空间，当P是复数域时，V称为复线性空间。  \n",
    "     \n",
    "   以上定义得：V是一个线性空间   \n",
    "     \n",
    "   \n",
    " <br>  \n",
    "     \n",
    "   线性相关：  \n",
    "   如果V是一个线性空间，如果存在不全为0的系数$c_1,c_2,……，c_n \\; \\in F $ 使得$c_1V_1+c_2V_2+……+c_nV_n=0 $那么，线性空间V中的向量$v_1,v_2,……，v_n$称为线性相关的。反之称为线性无关的。  \n",
    "     \n",
    "     \n",
    "   <br>  \n",
    "    \n",
    "   线性子空间：  \n",
    "   设W为向量空间V的一个非空子集，若W在V的加法即标量乘法下是封闭的，且零向量$0\\in W$,就称W为V的线性子空间。   \n",
    "       \n",
    "   <br>  \n",
    "     \n",
    "   线性映射：  \n",
    "   设定由V到W的线性变换或‘线性映射’  \n",
    "     \n",
    "   <br>  \n",
    "     \n",
    "   非线性映射：  \n",
    "   \n",
    "  <br>  \n",
    "  \n",
    "     \n",
    "   线性映射子空间：  \n",
    "     \n",
    "   <br>  \n",
    "    \n",
    "   非线性映射子空间："
   ]
  },
  {
   "cell_type": "code",
   "execution_count": null,
   "metadata": {},
   "outputs": [],
   "source": []
  }
 ],
 "metadata": {
  "kernelspec": {
   "display_name": "Python 3",
   "language": "python",
   "name": "python3"
  },
  "language_info": {
   "codemirror_mode": {
    "name": "ipython",
    "version": 3
   },
   "file_extension": ".py",
   "mimetype": "text/x-python",
   "name": "python",
   "nbconvert_exporter": "python",
   "pygments_lexer": "ipython3",
   "version": "3.7.6"
  }
 },
 "nbformat": 4,
 "nbformat_minor": 4
}
