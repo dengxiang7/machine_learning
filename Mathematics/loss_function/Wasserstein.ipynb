{
 "cells": [
  {
   "cell_type": "markdown",
   "metadata": {},
   "source": [
    "### Wasserstein 距离   \n",
    "  \n",
    "  Wasserstein距离度量两个概率分布之间的距离，定义如下：  \n",
    "    \n",
    "$$W(p_1,p_2)  = \\underset{\\gamma \\text{~} \\prod (p_1,p_2)}{inf} E_{(x,y)\\text{~} \\gamma}[||x-y||] $$     \n",
    "  \n",
    "<br>  \n",
    "\n",
    "$\\prod(P_1,P_2)$是$P_1$和$P_2$分布组合起来的所有可能的联合分布的集合。对于每一个可能的联合分布γ，可以从中采样(x,y)∼γ得到一个样本x和y，并计算出这对样本的距离||x−y||，所以可以计算该联合分布γ下，样本对距离的期望值$ E_{(x,y)\\text{~} \\gamma}[||x-y||]$。在所有可能的联合分布中能够对这个期望值取到的下界$ \\underset{\\gamma \\text{~} \\prod (p_1,p_2)}{inf} E_{(x,y)\\text{~} \\gamma}[||x-y||] $就是Wasserstein距离"
   ]
  },
  {
   "cell_type": "code",
   "execution_count": null,
   "metadata": {},
   "outputs": [],
   "source": []
  }
 ],
 "metadata": {
  "kernelspec": {
   "display_name": "Python 3",
   "language": "python",
   "name": "python3"
  },
  "language_info": {
   "codemirror_mode": {
    "name": "ipython",
    "version": 3
   },
   "file_extension": ".py",
   "mimetype": "text/x-python",
   "name": "python",
   "nbconvert_exporter": "python",
   "pygments_lexer": "ipython3",
   "version": "3.7.6"
  }
 },
 "nbformat": 4,
 "nbformat_minor": 4
}
