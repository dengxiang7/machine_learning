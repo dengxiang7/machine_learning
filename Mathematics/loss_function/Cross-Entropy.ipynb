{
 "cells": [
  {
   "cell_type": "markdown",
   "metadata": {},
   "source": [
    "### 交叉熵\n",
    "  \n",
    "两个分布 p,q 的交叉熵：  \n",
    "$=\\;\\underset{x}{\\sum}- {p}(x)log_2q_{x}$  \n",
    "  \n",
    "或者：  \n",
    "$=\\;\\underset{x}{\\sum}-{p}(x)log_2 \\frac{1}{q_{x}}$   \n",
    "  \n",
    "<br>  \n",
    "    \n",
    "\n",
    "  \n",
    "  \n",
    "    "
   ]
  },
  {
   "cell_type": "code",
   "execution_count": null,
   "metadata": {},
   "outputs": [],
   "source": []
  }
 ],
 "metadata": {
  "kernelspec": {
   "display_name": "Python 3",
   "language": "python",
   "name": "python3"
  },
  "language_info": {
   "codemirror_mode": {
    "name": "ipython",
    "version": 3
   },
   "file_extension": ".py",
   "mimetype": "text/x-python",
   "name": "python",
   "nbconvert_exporter": "python",
   "pygments_lexer": "ipython3",
   "version": "3.7.6"
  }
 },
 "nbformat": 4,
 "nbformat_minor": 4
}
