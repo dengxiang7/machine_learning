{
 "cells": [
  {
   "cell_type": "markdown",
   "metadata": {},
   "source": [
    "### 计算梯度  \n",
    "  \n",
    "  方向导数：函数在某点沿着某方向（向量）上的导数  \n",
    "$\\qquad\\;\\quad$如$u=u(x,y,z)$在点$p_0(x_0,y_0,z_0)$处可微，则$u=u(x,y,z)$在点$p_0$处沿任一方向$l_0$的方向导数为：$\\frac{\\partial u}{\\partial l}={u_x}^\\prime(p_0) \\cos \\alpha + {u_y}^\\prime(p_0) \\cos \\beta +{u_z}^\\prime(p_0) \\cos \\gamma$  \n",
    "$\\qquad\\;\\quad \\cos \\alpha \\quad\\cos \\beta \\quad \\cos \\gamma 为方向余弦$  \n",
    "  \n",
    "<img src=\"../../img/math/optimization/tidu1.PNG\" width=\"400\" high=\"400\"/>\n",
    "  \n",
    "梯度：函数在给定点处沿不同的方向，其方向导数一般是不同的；那么沿哪个方向其方向导数最大？最大值是多少？函数在点p_0沿哪个方向增加的速度最快？  \n",
    "\n",
    "$\\qquad u=u(x,y,z)$在点$p_0(x_0,y_0,z_0)$处任意方向导数为：$\\frac{\\partial u}{\\partial l}={u_x}^\\prime(p_0) \\cos \\alpha + {u_y}^\\prime(p_0) \\cos \\beta +{u_z}^\\prime(p_0) \\cos \\gamma$\n",
    "$$\\qquad\\qquad \\quad  l的方向\\;\\;=\\;\\;({u_x}^\\prime(p_0)\\cos \\alpha,{u_y}^\\prime(p_0)\\cos \\beta,{u_z}^\\prime(p_0)\\cos \\gamma) $$\n",
    "\n",
    "$\\qquad$ 可以看出当方向l_0的方向余弦$ \\cos \\gamma=1 \\;\\; \\cos \\alpha=1 \\;\\;\\cos \\beta=1$时方向导数最大，变化最快。所以$l_0$方向为$（{u_x}^\\prime(p_0),{u_y}^\\prime(p_0),{u_z}^\\prime(p_0)）$   \n",
    "\n",
    "$\\qquad $定义梯度$ grad \\;u|p_0 =[{u_x}^\\prime(p_0),{u_y}^\\prime(p_0),{u_z}^\\prime(p_0)] \\quad $沿$ grad \\;u|p_0 $变化最快，最大值为$|grad \\;u|p_0| $   \n",
    "  \n",
    "  \n",
    "    \n",
    "梯度一个重要性质，是沿着变化速度最快的方向上升；$\\Rightarrow$ 等高线某点的梯度与该点的切线相切\n",
    "  \n",
    "  \n",
    "<br>  "
   ]
  },
  {
   "cell_type": "code",
   "execution_count": null,
   "metadata": {},
   "outputs": [],
   "source": []
  }
 ],
 "metadata": {
  "kernelspec": {
   "display_name": "Python 3",
   "language": "python",
   "name": "python3"
  },
  "language_info": {
   "codemirror_mode": {
    "name": "ipython",
    "version": 3
   },
   "file_extension": ".py",
   "mimetype": "text/x-python",
   "name": "python",
   "nbconvert_exporter": "python",
   "pygments_lexer": "ipython3",
   "version": "3.7.6"
  }
 },
 "nbformat": 4,
 "nbformat_minor": 4
}
