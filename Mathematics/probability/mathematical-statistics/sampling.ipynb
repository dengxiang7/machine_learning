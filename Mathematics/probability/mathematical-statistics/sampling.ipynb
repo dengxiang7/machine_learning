{
 "cells": [
  {
   "cell_type": "markdown",
   "metadata": {},
   "source": [
    "# 采样    \n",
    "\n",
    "### 如何根据概率分布进行采样  \n",
    "   \n",
    "* 机器学习中反复提及的\"按某分布抽样\"，抽样不就是从总体中抽取一部分组成样本集，如何形象的理解按分布抽样呢？    \n",
    "  \n",
    "  离散分布抽样：  \n",
    "$$\\begin{array}{c|lcr}\n",
    "x & 0\\text{~}1 & \\text 1\\text{~}2 & 2\\text{~}3 \\\\\n",
    " \\hline\n",
    "p & 0.24 & 0.26 & 0.5\n",
    "\\end{array}$$  \n",
    "  按概率抽取样本。按概率0.24抽取$0\\text{~}1$内一个随机数。  \n",
    "     \n",
    "   \n",
    "  \n",
    "### 马尔可夫链蒙特卡罗方法（MCMC）  \n",
    "\n",
    "\n",
    "### 吉布斯采样（Gibbs sampling）"
   ]
  },
  {
   "cell_type": "code",
   "execution_count": null,
   "metadata": {},
   "outputs": [],
   "source": []
  }
 ],
 "metadata": {
  "kernelspec": {
   "display_name": "Python 3",
   "language": "python",
   "name": "python3"
  },
  "language_info": {
   "codemirror_mode": {
    "name": "ipython",
    "version": 3
   },
   "file_extension": ".py",
   "mimetype": "text/x-python",
   "name": "python",
   "nbconvert_exporter": "python",
   "pygments_lexer": "ipython3",
   "version": "3.7.6"
  }
 },
 "nbformat": 4,
 "nbformat_minor": 4
}
