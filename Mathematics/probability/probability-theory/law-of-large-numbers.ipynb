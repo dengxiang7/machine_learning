{
 "cells": [
  {
   "cell_type": "markdown",
   "metadata": {},
   "source": [
    "# 大数定律  \n",
    "  \n",
    "### 大数定律  \n",
    "  \n",
    " 大数定律($x_k$是随机变量)：$\\underset{n\\rightarrow \\infty}{lim}P\\{|\\frac{1}{n}\\sum_{k=1}^n x_k -\\frac{1}{n}\\sum_{k=1}^n Ex_k|<\\epsilon\\}=1 \\quad$  \n",
    "      \n",
    "这里若是$x_1，x_2,……，x_n$是独立同分布,且这个分布的均值是$\\mu=EX$。 则有：$Ex_1=EX_2=……EX_k = \\mu$,所以有：$\\frac{1}{n}n \\mu=EX$    \n",
    "  \n",
    "则这种情况下的大数定律为：$\\underset{n\\rightarrow \\infty}{lim}P\\{|\\frac{1}{n}\\sum_{k=1}^n x_k -\\mu|<\\epsilon\\}=1 \\quad$   \n",
    "  \n",
    "也就是意味着:$\\color{red}{\\text{只要样本只够多，那么算术平均值接近其期望。}}$  \n",
    "        \n",
    " <br>  \n",
    "   \n",
    "### 强大数定律   \n",
    "   \n",
    "   设 $X_1,X_2,……，X_n$ 为一独立同分布的随机变量序列，其均值$E[X_i]$\n",
    "  \n",
    "   $P \\{\\underset{n\\rightarrow \\infty}{lim}\\frac{X_1+X_2+……+X_n}{n} = EX\\}=1 \\quad$  \n",
    "   "
   ]
  },
  {
   "cell_type": "code",
   "execution_count": null,
   "metadata": {},
   "outputs": [],
   "source": []
  }
 ],
 "metadata": {
  "kernelspec": {
   "display_name": "Python 3",
   "language": "python",
   "name": "python3"
  },
  "language_info": {
   "codemirror_mode": {
    "name": "ipython",
    "version": 3
   },
   "file_extension": ".py",
   "mimetype": "text/x-python",
   "name": "python",
   "nbconvert_exporter": "python",
   "pygments_lexer": "ipython3",
   "version": "3.7.6"
  }
 },
 "nbformat": 4,
 "nbformat_minor": 4
}
