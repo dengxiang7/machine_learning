{
 "cells": [
  {
   "cell_type": "markdown",
   "metadata": {},
   "source": [
    "### Jensen不等式  \n",
    "  \n",
    "  函数$f(x) ： x\\in [a,b]\\;\\;$ x取值在\\[a,b\\]内可能性的加权和为1。且$f(x)\\;$在x的取值范围内是下凸函数的话以下不等式成立:  \n",
    "    \n",
    "$f(\\;E(x)\\;) \\; \\leq \\; E(\\;f(x)\\;)$  \n",
    "  \n",
    "<br>  \n",
    "  \n",
    "想象下凸函数：  \n",
    "  \n",
    "  x的均值的函数值，小于等于函数值的均值"
   ]
  },
  {
   "cell_type": "code",
   "execution_count": null,
   "metadata": {},
   "outputs": [],
   "source": []
  }
 ],
 "metadata": {
  "kernelspec": {
   "display_name": "Python 3",
   "language": "python",
   "name": "python3"
  },
  "language_info": {
   "codemirror_mode": {
    "name": "ipython",
    "version": 3
   },
   "file_extension": ".py",
   "mimetype": "text/x-python",
   "name": "python",
   "nbconvert_exporter": "python",
   "pygments_lexer": "ipython3",
   "version": "3.7.6"
  }
 },
 "nbformat": 4,
 "nbformat_minor": 4
}
