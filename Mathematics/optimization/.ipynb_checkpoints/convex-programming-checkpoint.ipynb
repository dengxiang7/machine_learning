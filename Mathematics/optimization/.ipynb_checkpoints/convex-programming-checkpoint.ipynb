{
 "cells": [
  {
   "cell_type": "markdown",
   "metadata": {},
   "source": [
    "## 凸规划\n",
    "#### 凸集\n",
    "集合任意两点连线任在集合上为凸集。  \n",
    "![](../../img/math/optimization/convex-set.png)  \n",
    "\n",
    "#### 凸函数\n",
    "在凸集上定义的函数f,若它对凸集上的任意两点$x_1,x_2$都有$f(\\frac{x_1+x_2}{2})\\leq \\frac{f(x_1)+f(x_2)}{2}$则称f在区间上是凸函数。$U形曲线一般是凸函数如：f(x)=x^2$  \n",
    "对实数集上的函数，可以通过求二解导数来判别，若二阶导数在区间上非负，则称为凸函数，若二阶导数在区间上恒大于0,则称为严格凸函数。  \n",
    "<img src=\"../../img/math/optimization/convex-function.png\" width=\"200\" high=\"200\"/>  \n",
    "  \n",
    "#### 凸规划\n",
    "求凸集上凸函数的极小点问题就是凸规划问题(有约束条件的其中不等式需要是凸函数)。  \n",
    "$f(x)凸函数，g(x)凸函数，h(x)线性函数 则凸规化为：$  \n",
    "$\\qquad\\qquad \\underset{x}{min} f(x)$  \n",
    "$\\qquad\\qquad s.t.\\;\\;g_i(x)\\leq 0 \\;\\;\\;\\;j=1,2,{\\cdots},m$  \n",
    "$\\qquad\\qquad \\qquad h_j(x)=0 \\;\\;\\;\\;j=1,2,{\\cdots},n$  \n",
    "  \n",
    "#### 凸规划的优势\n",
    "1.局部极小点就是全局极小点  \n",
    "2.满足一定条件对偶问题就是原问题的解  \n",
    "3.KKT条件是必要条件也是充分条件"
   ]
  },
  {
   "cell_type": "code",
   "execution_count": null,
   "metadata": {},
   "outputs": [],
   "source": []
  }
 ],
 "metadata": {
  "kernelspec": {
   "display_name": "Python 3",
   "language": "python",
   "name": "python3"
  },
  "language_info": {
   "codemirror_mode": {
    "name": "ipython",
    "version": 3
   },
   "file_extension": ".py",
   "mimetype": "text/x-python",
   "name": "python",
   "nbconvert_exporter": "python",
   "pygments_lexer": "ipython3",
   "version": "3.6.10"
  }
 },
 "nbformat": 4,
 "nbformat_minor": 4
}
