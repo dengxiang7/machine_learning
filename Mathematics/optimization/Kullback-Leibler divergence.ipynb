{
 "cells": [
  {
   "cell_type": "markdown",
   "metadata": {},
   "source": [
    "### KL距离(相对熵)\n",
    "又被称为Kullback-Leibler散度（Kullback-Leibler divergence）或信息散度（information divergence），是两个概率分布（probability distribution）间差异的非对称性度量 。在在信息理论中，相对熵等价于两个概率分布的信息熵（Shannon entropy）的差值  \n",
    "  \n",
    "  \n",
    "设 $P(x)和Q(x)$是随机变量$X$ 上的两个概率分布，则在离散和连续随机变量的情形下，相对熵的定义分别为 \n",
    "$$KL(P|Q|)=\\sum P(x)log_2\\frac{P(x)}{Q(x)}$$\n",
    "$$KL(P|Q|)=\\int P(x)log_2\\frac{P(x)}{Q(x)} dx$$  \n",
    "  \n",
    "    \n",
    "  优化目标最小化经验分布和模型分布的KL距离：  \n",
    "  $$\\underset{\\theta}{min} \\sum_{x:\\hat{p}_{data}}\\hat{p}_{data}(x)log_2 \\frac{\\hat{p}_{data}(x)}{p_{model}(x)}$$   \n",
    "    \n",
    "      \n",
    "        \n",
    "  <br>\n",
    "  优化目标 最大化似然函数 和  交叉熵  和 KL距离(相对熵) 等价   \n",
    "    \n",
    "      \n",
    "  <br>  \n",
    "  \n",
    "    \n",
    "<br>  \n",
    "  \n",
    "### KL不对称性    \n",
    "  \n",
    "  衡量两个分布的差异性：  \n",
    "  \n",
    "  \n",
    "  $$KL(P|Q|)=\\sum P(x)log_2\\frac{P(x)}{Q(x)} \\;\\;\\;\\neq \\;\\;\\;KL(Q|P|)=\\sum Q(x)log_2\\frac{Q(x)}{P(x)}$$  \n",
    "    \n",
    "      \n",
    "<br>  \n",
    "  \n",
    "  对$log_2\\frac{P(x)}{Q(x)}$的加权平均（期望）；其权重是 P（X）；    \n",
    "    \n",
    " <br>  \n",
    " \n",
    " $$log_2 \\left(\\frac{P(x)}{Q(x)}\\right)^{P(x)}$$  \n",
    "   \n",
    " ![](img/kl1.PNG)  \n",
    "   \n",
    " <br>  \n",
    "    \n",
    " 从公式和图像可以看出：   \n",
    "   \n",
    "  想要KL小的话： \n",
    " \n",
    "  在 P(x) 大的地方 想让KL小，那么需要Q(X)也尽量大；  \n",
    "    \n",
    "  在P（X）小的地方， Q（x）对KL影响很小  \n",
    "    \n",
    " <br>   \n",
    "    \n",
    "  直观来说就是，在P的概率密度大的地方，它应该尽量和Q概率密度大的区域保持一致以保证KL散度小，而在P概率密度很小的地方，P和Q的差别对KL的影响很小。  \n",
    "      \n",
    "如图：  \n",
    "    \n",
    "<img src='img/kl2.PNG' width=\"250\" hight=\"250\"/>"
   ]
  },
  {
   "cell_type": "code",
   "execution_count": null,
   "metadata": {},
   "outputs": [],
   "source": []
  }
 ],
 "metadata": {
  "kernelspec": {
   "display_name": "Python 3",
   "language": "python",
   "name": "python3"
  },
  "language_info": {
   "codemirror_mode": {
    "name": "ipython",
    "version": 3
   },
   "file_extension": ".py",
   "mimetype": "text/x-python",
   "name": "python",
   "nbconvert_exporter": "python",
   "pygments_lexer": "ipython3",
   "version": "3.6.10"
  }
 },
 "nbformat": 4,
 "nbformat_minor": 4
}
