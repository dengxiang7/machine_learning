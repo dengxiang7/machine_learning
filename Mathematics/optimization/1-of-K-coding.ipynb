{
 "cells": [
  {
   "cell_type": "markdown",
   "metadata": {},
   "source": [
    "   1 of k coding (类型特征转换 1 of k 哑编码)：将非数字型的特征值转换为数值型数据  \n",
    "     \n",
    "   假设变量的取值有k个，对这些值用1到k编码，则可以用维度为k的向量来表示一个变量的值：  \n",
    "     \n",
    "   假设变量字母：取值为 ：A，B，C  ，对取值编码为：1，2，3   \n",
    "     \n",
    "   取值A:用k维向量表示为：\\[1,0,0\\]    \n",
    "     \n",
    "   取值B:用k维向量表示为：\\[0,1,0\\]  \n",
    "     \n",
    "   取值C:用k维向量表示为：\\[0,0,1\\]   \n",
    "     \n",
    "   各个取值可能之间的距离相同都是$\\sqrt{2}$ (如AB,AC,BC)     \n",
    "     \n",
    "<br> "
   ]
  },
  {
   "cell_type": "code",
   "execution_count": null,
   "metadata": {},
   "outputs": [],
   "source": []
  }
 ],
 "metadata": {
  "kernelspec": {
   "display_name": "Python 3",
   "language": "python",
   "name": "python3"
  },
  "language_info": {
   "codemirror_mode": {
    "name": "ipython",
    "version": 3
   },
   "file_extension": ".py",
   "mimetype": "text/x-python",
   "name": "python",
   "nbconvert_exporter": "python",
   "pygments_lexer": "ipython3",
   "version": "3.7.6"
  }
 },
 "nbformat": 4,
 "nbformat_minor": 4
}
