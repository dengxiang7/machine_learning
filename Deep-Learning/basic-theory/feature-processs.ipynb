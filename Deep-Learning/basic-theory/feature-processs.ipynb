{
 "cells": [
  {
   "cell_type": "markdown",
   "metadata": {},
   "source": [
    "###  特征处理（特征变换，特征选择）  \n",
    "  \n",
    "一般情况下，特征是相关的，例如图像的R,G,B三个特征。那么如果简单的抛弃R值，也将一起失去G,B特征的信息。  \n",
    "* 特征变换：  \n",
    "    就是通过一定的数学运算，对原有的特征进行运算得到一组新特征。（以达到降维）。如把R,G,B通过运算合到一个新特征上。如：PCA->方差 如LDA->均值  \n",
    "  \n",
    "* 特征选择  \n",
    "    而特征选择，是直接选择那些线性相关的特征进行聚类（如直接选择，线性相关的R，G，B三个特征）。不再是对对原有的特征进行运算得到一组新特征。  "
   ]
  },
  {
   "cell_type": "code",
   "execution_count": null,
   "metadata": {},
   "outputs": [],
   "source": []
  }
 ],
 "metadata": {
  "kernelspec": {
   "display_name": "Python 3",
   "language": "python",
   "name": "python3"
  },
  "language_info": {
   "codemirror_mode": {
    "name": "ipython",
    "version": 3
   },
   "file_extension": ".py",
   "mimetype": "text/x-python",
   "name": "python",
   "nbconvert_exporter": "python",
   "pygments_lexer": "ipython3",
   "version": "3.7.6"
  }
 },
 "nbformat": 4,
 "nbformat_minor": 4
}
