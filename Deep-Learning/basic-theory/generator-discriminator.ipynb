{
 "cells": [
  {
   "cell_type": "markdown",
   "metadata": {},
   "source": [
    "### 决策函数和概率分布  \n",
    "决策函数:Y=f(x) 输入x,输出Y与阈值比较(Sigmoid等)  \n",
    "  \n",
    "概率分布：P（Y|X）输入X属于Y的概率  \n",
    "  \n",
    "  \n",
    "### 判别器  \n",
    "  \n",
    "  \n",
    "基于判别方法或者概率分布判断输入  \n",
    "  \n",
    "### 生成器  \n",
    "  \n",
    "  学习数据的联合概率密度函数，"
   ]
  },
  {
   "cell_type": "code",
   "execution_count": null,
   "metadata": {},
   "outputs": [],
   "source": []
  }
 ],
 "metadata": {
  "kernelspec": {
   "display_name": "Python 3",
   "language": "python",
   "name": "python3"
  },
  "language_info": {
   "codemirror_mode": {
    "name": "ipython",
    "version": 3
   },
   "file_extension": ".py",
   "mimetype": "text/x-python",
   "name": "python",
   "nbconvert_exporter": "python",
   "pygments_lexer": "ipython3",
   "version": "3.7.4"
  }
 },
 "nbformat": 4,
 "nbformat_minor": 4
}
