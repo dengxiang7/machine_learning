{
 "cells": [
  {
   "cell_type": "markdown",
   "metadata": {},
   "source": [
    "### 批量标准化加速DNN的训练    \n",
    "  \n",
    "<br>  \n",
    "  \n",
    "标准化的操作：  $../Mathematics/numerical-processing/normalization.ipynb$      \n",
    "  \n",
    "<br>  \n",
    "\n",
    "参考：https://blog.csdn.net/sinat_33741547/article/details/87158830\n",
    "\n",
    "<br>  \n",
    "  \n",
    "<br>  \n",
    "\n",
    "  \n",
    "批量标准化通过降低内部协方差的偏移来加速深度神经网络的训练。  \n",
    "  \n",
    "batch norm用来加速网络收敛及防止梯度消失等神经网络常见的问题，那么batch norm为什么有效呢？ 从源头出发，神经网络难以训练的原因是什么？\n",
    "\n",
    "\n",
    "  \n",
    "    \n",
    "<br>  \n",
    "  \n",
    "#### internal covariate shift   \n",
    "  \n",
    "内部协方差的偏移：  \n",
    "  \n",
    "从BP算法看，在神经网络中参数是一层一层更新的。  \n",
    "    \n",
    "深度神经网络涉及到很多层的叠加，而每一层的参数更新会导致上层的输入数据分布发生变化，通过层层叠加，高层的输入分布变化会非常剧烈，这就使得高层需要不断去重新适应底层的参数更新。为了训好模型，我们需要非常谨慎地去设定学习率、初始化权重、以及尽可能细致的参数更新策略。Google 将这一现象总结为 Internal Covariate Shift，简称 ICS  \n",
    "      \n",
    "  \n",
    "大家都知道在统计机器学习中的一个经典假设是“源空间（source domain）和目标空间（target domain）的数据分布（distribution）是一致的”。如果不一致，那么就出现了新的机器学习问题，如 transfer learning / domain adaptation 等。而 covariate shift就是分布不一致假设之下的一个分支问题，它是指源空间和目标空间的条件概率是一致的，但是其边缘概率不同：  \n",
    "即对$x\\in X$有  \n",
    "  \n",
    "\n"
   ]
  },
  {
   "cell_type": "code",
   "execution_count": null,
   "metadata": {},
   "outputs": [],
   "source": []
  }
 ],
 "metadata": {
  "kernelspec": {
   "display_name": "Python 3",
   "language": "python",
   "name": "python3"
  },
  "language_info": {
   "codemirror_mode": {
    "name": "ipython",
    "version": 3
   },
   "file_extension": ".py",
   "mimetype": "text/x-python",
   "name": "python",
   "nbconvert_exporter": "python",
   "pygments_lexer": "ipython3",
   "version": "3.7.6"
  }
 },
 "nbformat": 4,
 "nbformat_minor": 4
}
