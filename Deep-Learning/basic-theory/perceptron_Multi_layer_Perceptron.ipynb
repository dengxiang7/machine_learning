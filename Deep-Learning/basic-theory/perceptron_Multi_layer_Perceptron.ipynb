{
 "cells": [
  {
   "cell_type": "markdown",
   "metadata": {},
   "source": [
    "### M-P神经元模型\n",
    "神经元接收到来自$n$个其他神经元的输入信号，这些输入信号有各自的权重$\\omega$，神经元接收到的总输入值将与神经元的阈值$\\theta$进行比较，然后通过激活函数$f$处理神经元的输出。 \n",
    "\n",
    "![](../../img/Pattern_recognition/neural_networks/M-P.PNG)  \n",
    "  \n",
    "激活函数:  \n",
    "![](../../img/Pattern_recognition/neural_networks/activateFun.PNG)  \n",
    "  \n",
    "    \n",
    "      \n",
    " 神经网络：  \n",
    " 大量的计算单元以某种形式连接，形成网络。通过对网络建立一定的数学模型和算法，训练出连接权值，使网络能够实现基于数据的模式识别、函数映射等带有“智能”的功能  \n",
    "   \n",
    "     \n",
    "### 感知机\n",
    "感知机由两层神经元组成且能够感知错误并重新对权重和阈值学习；且输入层输出层神经元中只有输出层神经元具有激活函数功能（只有输出层是M-P神经元）\n",
    "![](../../img/Pattern_recognition/neural_networks/perceptron1.PNG)  \n",
    "  \n",
    "把阈值$\\theta$看作固定输入-1.0权重为$w_{n+1}$,则统一为权重的学习：  \n",
    "则感知机处理过程为：  \n",
    "(真实标签$y$,预测值$\\hat{y}$)  \n",
    "1.$y=\\hat{y}$,感知到预测正确，权重不调整  \n",
    "2..$y \\neq \\hat{y}$ 感知到预测错误，则更据错误程度调整权重$ .\\begin{cases} \\Delta w_i=\\eta(y-\\hat{y})x_i \\\\ w_i=w_i+\\Delta w_i \\end{cases} $  \n",
    "    \n",
    "      \n",
    "  <br>    \n",
    "    \n",
    "从上述可以看出其过程和以前学过的感知器一样$W^TX_i+b>0$。所以感知机就是一个感知器，有感知器一样的缺点，没法做非线性分类。      \n",
    "<br>    \n",
    "  \n",
    " 感知机的优点和缺点：感知机很容易实现 与、或、非、问题，而与、或、非问题都是线性可分问题；缺点：不能实现：异或运算，也就是线性不可分问题  ![](../../img/Pattern_recognition/neural_networks/perceptron2.PNG)  \n",
    " \n",
    "    \n",
    "<br> \n",
    "    \n",
    "### MLP多层前馈神经网络     \n",
    "  \n",
    "解决感知机无法处理线性不可分问题;当感知机个数大于两个就能够处理线性不可分问题，由此可推广到多层前馈神经网络 \n",
    "![](../../img/Pattern_recognition/neural_networks/perceptron4.PNG)\n",
    "<br>\n",
    "    \n",
    "感知机只有一层功能神经元所以学习能力相当有限；现在在输入层和输出层之间加入多个隐层，这个多个隐层也具有功能函数进行数据处理（M-P）,但是需要注意的是每层神经元与下层神经元全互连，神经元之间不存在同层互连，也不存在跨层互连。  \n",
    "![](../../img/Pattern_recognition/neural_networks/MLP1.PNG)  \n",
    "  \n",
    "    \n",
    "注意：输入层仅接收输入，不进行函数处理，隐层和输出层具有函数功能进行数据处理。神经网络的学习过程，就是根据训练数据来调整连接权重和阈值所以对于一个预测模型，学习到的东西都蕴含在权重和阈值中。   \n",
    "  \n",
    "    \n",
    "### 反馈神经网络\n",
    "输入信号作用于神经元节点上，各个节点的输出又作为输入反馈到各节点，形成一个动态系统，当系统稳定后读取其输出  \n",
    "![](../../img/Pattern_recognition/neural_networks/feedback1.PNG)  \n",
    "  \n",
    "    \n",
    "<br>\n",
    "\n"
   ]
  },
  {
   "cell_type": "code",
   "execution_count": null,
   "metadata": {},
   "outputs": [],
   "source": []
  }
 ],
 "metadata": {
  "kernelspec": {
   "display_name": "Python 3",
   "language": "python",
   "name": "python3"
  },
  "language_info": {
   "codemirror_mode": {
    "name": "ipython",
    "version": 3
   },
   "file_extension": ".py",
   "mimetype": "text/x-python",
   "name": "python",
   "nbconvert_exporter": "python",
   "pygments_lexer": "ipython3",
   "version": "3.6.10"
  }
 },
 "nbformat": 4,
 "nbformat_minor": 4
}
