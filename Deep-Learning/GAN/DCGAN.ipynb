{
 "cells": [
  {
   "cell_type": "markdown",
   "metadata": {},
   "source": [
    "### 深度卷积GAN (DCGAN)    \n",
    "  \n",
    "  解决了GAN的训练的不稳定，不可解释性，生成过程不可控问题。\n",
    "  \n",
    "#### 网络结构  \n",
    "  \n",
    "1、用strided convolutions (discriminator，判别器用卷积网络) 和fractionstrided convolutions (generator，生成器用反卷积网络)替换掉所有池化层    \n",
    "  \n",
    "2、在生成器和鉴别器中使用batchnorm（批标准化） （生成器和判别器的输入都要批标准化）   \n",
    "  \n",
    "3、为更深层的架构移除完全连接的隐藏层（判别器最后的全连接层（扁平化层），采用全局平均池化层代替全连接层）  \n",
    "  \n",
    "4、除使用Tanh的输出外，在生成器中对所有层使用ReLU激活   \n",
    "  \n",
    "5、在鉴别器中对所有层使用LeakyReLU激活  \n",
    "    \n",
    "      \n",
    "<br>  \n",
    "  \n",
    "<br>  \n",
    "   \n",
    "生成器的网络结构图：\n",
    "\n",
    "![](../img/GAN/DCGAN1.PNG)   \n",
    "  \n",
    "<br>  \n",
    "  \n",
    "<br>  \n",
    "  \n",
    "这里为什么生成器的输出层采用tanh函数，像素在0~255，tanh 函数 的值-1 ~1之间。  \n",
    "  \n",
    "DCGAN的实现应该都有preprocess和deprocess图像的函数：preprocess应该是将uint8的图像除以127.5再减1，deprocess是做反向处理，恢复到[0, 255]区间。   \n",
    "  \n",
    "    \n",
    "<br>  \n",
    "  \n",
    "<br>  \n",
    "\n",
    "### 训练方法  \n",
    " DCGAN 的训练方法跟GAN 是一样的，分为以下三步：\n",
    "\n",
    "（1）for k steps：训练D 让式子$[logD(x) + log(1 - D(G(Z)) (G \\; keeps \\;still)]$的值达到最大\n",
    "\n",
    "（2）保持D 不变，训练G 使式子$[logD(G(z))]$的值达到最大\n",
    "\n",
    "（3）重复step（1）和step（2）直到G 与D 达到纳什均衡  \n",
    "  \n",
    "  \n",
    "<br>  \n",
    "  \n",
    "### 漫游隐空间  \n",
    "  \n",
    "  通过使用插值微调噪音输入z 的方式可以导致隐空间结构发生变化从而引导生成图像发生语义上的平滑过度，比如说从有窗户到没窗户，从有电视到没电视等等\n"
   ]
  },
  {
   "cell_type": "code",
   "execution_count": null,
   "metadata": {},
   "outputs": [],
   "source": []
  }
 ],
 "metadata": {
  "kernelspec": {
   "display_name": "Python 3",
   "language": "python",
   "name": "python3"
  },
  "language_info": {
   "codemirror_mode": {
    "name": "ipython",
    "version": 3
   },
   "file_extension": ".py",
   "mimetype": "text/x-python",
   "name": "python",
   "nbconvert_exporter": "python",
   "pygments_lexer": "ipython3",
   "version": "3.7.6"
  }
 },
 "nbformat": 4,
 "nbformat_minor": 4
}
