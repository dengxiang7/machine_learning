{
 "cells": [
  {
   "cell_type": "markdown",
   "metadata": {},
   "source": [
    "### 堆叠式降噪自编码器 （SDAE）   \n",
    "  \n",
    "  多个DAE堆叠能够形成具有一定深度的SDAE。这时的SDAE并不能进行模式识别，因为它只是一个特征提取器，并不具有分类功能。为了使SDAE具有分类功能，需在其顶层添加分类器，如SVM、softmax等，并使用带标签的数据对SDAE进行有监督训练，最后使用利用BP算法对整个网络参数进行微调，便得到具有分类功能的SDAE   \n",
    "    \n",
    "    \n",
    "  逐层贪婪训练：每层自编码层都单独进行非监督训练，以最小化输入（输入为前一层的隐层输出）与重构结果之间的误差为训练目标。前K层训练好了，就可以训练K+1层，因为已经前向传播求出K层的输出，再用K层的输出当作K+1的输入训练K+1层。  \n",
    "      \n",
    " \n",
    "\n",
    "一旦SDAE训练完成, 其高层的特征就可以用做传统的监督算法的输入。当然，也可以在最顶层添加一层logistic regression layer（softmax层），然后使用带label的数据来进一步对网络进行微调（fine-tuning），即用样本进行有监督训练。  \n",
    "  \n",
    "    \n",
    "      \n",
    "<br>  \n",
    "  \n",
    "<br>  \n",
    "  \n",
    "#### SDAE的网络结构  \n",
    "  \n",
    "  训练一个单层 降噪神经网络。  \n",
    "    \n",
    "![](img/SDAE1.PNG)   \n",
    "  \n",
    "<br>  \n",
    " \n",
    " 单层降噪自编码器训练完成后，只保留编码器，把编码器学到的隐层作为下一个单层降噪自编码器的输入。  \n",
    "   \n",
    "<br>     \n",
    "  \n",
    "  \n",
    "![](img/SDAE2.PNG)    "
   ]
  },
  {
   "cell_type": "code",
   "execution_count": null,
   "metadata": {},
   "outputs": [],
   "source": []
  }
 ],
 "metadata": {
  "kernelspec": {
   "display_name": "Python 3",
   "language": "python",
   "name": "python3"
  },
  "language_info": {
   "codemirror_mode": {
    "name": "ipython",
    "version": 3
   },
   "file_extension": ".py",
   "mimetype": "text/x-python",
   "name": "python",
   "nbconvert_exporter": "python",
   "pygments_lexer": "ipython3",
   "version": "3.7.6"
  }
 },
 "nbformat": 4,
 "nbformat_minor": 4
}
