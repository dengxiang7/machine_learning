{
 "cells": [
  {
   "cell_type": "markdown",
   "metadata": {},
   "source": [
    "### 变分自编码器  \n",
    "  \n",
    "#### 分布变换：  \n",
    "假设一个模型分布$P_{model}$,且假设训练集上的样本是由这个模型分布$P_{model}$产生出来的样本，利用这些样本求出这个模型的参数。  \n",
    "  \n",
    "再根据已知的训练样本能够统计出来在这个训练集上样本的分布$P_{data}$    \n",
    "  \n",
    "KL散度最小化这两个分布的误差。   \n",
    "  \n",
    "    \n",
    "#### 变分自编码    \n",
    "  \n",
    "  生成器是一个概率模型的自编码器；  \n",
    "    \n",
    "![](../img/VAE/VAE1.PNG)"
   ]
  },
  {
   "cell_type": "code",
   "execution_count": null,
   "metadata": {},
   "outputs": [],
   "source": []
  }
 ],
 "metadata": {
  "kernelspec": {
   "display_name": "Python 3",
   "language": "python",
   "name": "python3"
  },
  "language_info": {
   "codemirror_mode": {
    "name": "ipython",
    "version": 3
   },
   "file_extension": ".py",
   "mimetype": "text/x-python",
   "name": "python",
   "nbconvert_exporter": "python",
   "pygments_lexer": "ipython3",
   "version": "3.6.10"
  }
 },
 "nbformat": 4,
 "nbformat_minor": 4
}
