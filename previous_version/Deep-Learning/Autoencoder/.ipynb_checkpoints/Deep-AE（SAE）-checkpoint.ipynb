{
 "cells": [
  {
   "cell_type": "markdown",
   "metadata": {},
   "source": [
    "###   深度自编码器（DAE）  \n",
    "就是自编码中间的隐层有多个。可以对应建立的网络结构  \n",
    "![](../../img/Pattern_recognition/neural_networks/DAE1.PNG)  \n",
    "    \n",
    "<br>  \n",
    "  \n",
    "深度自编码器的训练过程逐层训练的：训练一层固定一层 递进一层：  \n",
    "![](../../img/Pattern_recognition/neural_networks/DAE2.PNG) \n",
    "![](../../img/Pattern_recognition/neural_networks/DAE3.PNG)   \n",
    "  \n",
    "  \n",
    "<br>  \n"
   ]
  },
  {
   "cell_type": "code",
   "execution_count": null,
   "metadata": {},
   "outputs": [],
   "source": []
  }
 ],
 "metadata": {
  "kernelspec": {
   "display_name": "Python 3",
   "language": "python",
   "name": "python3"
  },
  "language_info": {
   "codemirror_mode": {
    "name": "ipython",
    "version": 3
   },
   "file_extension": ".py",
   "mimetype": "text/x-python",
   "name": "python",
   "nbconvert_exporter": "python",
   "pygments_lexer": "ipython3",
   "version": "3.7.6"
  }
 },
 "nbformat": 4,
 "nbformat_minor": 4
}
