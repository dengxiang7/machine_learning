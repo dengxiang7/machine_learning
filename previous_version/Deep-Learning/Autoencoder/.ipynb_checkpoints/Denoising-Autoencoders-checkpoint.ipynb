{
 "cells": [
  {
   "cell_type": "markdown",
   "metadata": {},
   "source": [
    "### 降噪自编码器  \n",
    "传统自编码器，是使用输出等于输入，而我们真正关心的是编码阶段学的隐藏表示，所以很多对自编码器的改进都是对隐藏表达增加一定的约束。  \n",
    "  \n",
    "好的隐层表达能够捕获输入信息的稳定结构，又很好的鲁棒性。    \n",
    "  \n",
    "<br>  \n",
    "  \n",
    "降噪自编码器：针对隐藏表达能够兼容输入的局部破坏。换句话说，输入的局部破坏得到的隐层表达 和完整的输入得到的隐层表达应该一致。那么利用这个隐层表达可以完整的重建被破坏的数据   \n",
    "  \n",
    "    \n",
    "#### 思想  \n",
    "  \n",
    " 1、对干净的输入信号人为的加入一些噪声，使干净信号受到局部破坏，产生一个对应的损坏输入$\\hat{x}$这个损坏输入是对干净输入的一个随机映射$\\hat{x} $~$q_D(\\hat{x}|x)$  \n",
    "   \n",
    " 2、对损坏输入使用传统的自编码，产生一个重建输出y  \n",
    "   \n",
    " 3、尽可能的让这个重建的输出y与干净的输入x相同  \n",
    "   \n",
    "  \n",
    "   \n",
    "![](img/DenoisingAE1.PNG)   \n",
    "   \n",
    "     \n",
    "这里衡量两个重建输出的差异使用损失函数：  \n",
    "$L_{DAE}(W)= E_{\\hat{x} \\text{ ~}q_D(\\hat{x}|x) }L(x,y)$"
   ]
  },
  {
   "cell_type": "code",
   "execution_count": null,
   "metadata": {},
   "outputs": [],
   "source": []
  }
 ],
 "metadata": {
  "kernelspec": {
   "display_name": "Python 3",
   "language": "python",
   "name": "python3"
  },
  "language_info": {
   "codemirror_mode": {
    "name": "ipython",
    "version": 3
   },
   "file_extension": ".py",
   "mimetype": "text/x-python",
   "name": "python",
   "nbconvert_exporter": "python",
   "pygments_lexer": "ipython3",
   "version": "3.6.10"
  }
 },
 "nbformat": 4,
 "nbformat_minor": 4
}
