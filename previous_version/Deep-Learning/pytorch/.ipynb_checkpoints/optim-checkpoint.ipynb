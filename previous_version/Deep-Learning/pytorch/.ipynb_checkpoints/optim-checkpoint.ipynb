{
 "cells": [
  {
   "cell_type": "markdown",
   "metadata": {},
   "source": [
    "### pytorch 优化  \n",
    "\n",
    "梯度下降算法：总的损失函数$f(x)=\\frac{1}{n} \\sum_{i=1}^n f_i(x) \\quad$求出的梯度$\\Delta f(x)=\\frac{1}{n} \\sum_{i=1}^n \\Delta f_i(x) \\quad$  进行迭代 $x \\leftarrow x - \\eta \\Delta f(x)$ 。\n",
    "\n",
    "<br>  \n",
    " \n",
    "随机梯度下降算法：迭代是随机选择一个样本损失函数的梯度。$x \\leftarrow x - \\eta \\Delta f_i(x)$    \n",
    "  \n",
    "  \n",
    "<br>  \n",
    " \n",
    "pytorch优化算法的总结： \n",
    " \n",
    "框架：\n",
    "\n",
    "目录:  \n",
    "----optim(库名)  \n",
    "------------Optimizer(所有优化算法对象的超类)  \n",
    "---------------------Adam(优化算法，这不是一个函数，而是一个对象，其超类为Optimizer)  \n",
    "---------------------sgd(优化算法，这不是一个函数，而是一个对象，其超类为Optimizer)  \n",
    "  \n",
    "<br>  \n",
    "  \n",
    "  \n",
    "对象讲解：  \n",
    "torch.optim：首先这是一个库，这个库里包含了各种已经定义好的优化算法（如SGD，Adm）。   \n",
    "  \n",
    "optimizer对象：所有优化算法对象的超类。  \n",
    "$\\qquad\\qquad\\;\\;\\;\\;$这个对象能保持当前参数的状态(当前迭代步数值)，并基于计算得到的梯度（这个梯度不是用这个对象里算法计算的）进行参数更  \n",
    "$\\qquad\\qquad\\;\\;\\;\\;$ 新（下一个迭代步的参数状态） \n",
    "  \n",
    "$\\qquad \\quad$optimizer ：对象内含的变量和方法及如何使用这个类   \n",
    "\n",
    "$\\qquad\\qquad$ 变量：  \n",
    "  \n",
    "$\\qquad\\qquad\\qquad\\;$param_groups ：用来存放损失函数里需要优化的参数张量（类型是Variable对象，或tensor）。  \n",
    "  \n",
    "$\\qquad\\qquad$ 函数：   \n",
    "  \n",
    "$\\qquad\\qquad\\qquad\\;$zero_grad()：清空现存的梯度。  \n",
    "  \n",
    "$\\qquad\\qquad\\qquad\\;$step()：单次优化操作，也就是进行一次参数更新$x \\leftarrow \\eta \\Delta f$。  \n",
    " \n",
    "\n",
    "   "
   ]
  },
  {
   "cell_type": "code",
   "execution_count": null,
   "metadata": {},
   "outputs": [],
   "source": []
  }
 ],
 "metadata": {
  "kernelspec": {
   "display_name": "Python 3",
   "language": "python",
   "name": "python3"
  },
  "language_info": {
   "codemirror_mode": {
    "name": "ipython",
    "version": 3
   },
   "file_extension": ".py",
   "mimetype": "text/x-python",
   "name": "python",
   "nbconvert_exporter": "python",
   "pygments_lexer": "ipython3",
   "version": "3.7.6"
  }
 },
 "nbformat": 4,
 "nbformat_minor": 4
}
