{
 "cells": [
  {
   "cell_type": "markdown",
   "metadata": {},
   "source": [
    "### 概率变换  \n",
    "比如把均匀分布的取值和概率，转换到高斯分布的取值的概率；使用的是统计量   \n",
    "  \n",
    " \n",
    "$\\begin{array}{c|lcr}\n",
    "x & x_1 & x_2 & x_3 \\\\\n",
    "\\hline\n",
    "p & xp_1 & xp_2 & xp_3\n",
    "\\end{array} \\qquad$ \n",
    "$\\begin{array}{c|lcr}\n",
    "y & y_1 & y_2 &y_3 \\\\\n",
    "\\hline\n",
    "p & yp_1 & yp_2 & yp_3\n",
    "\\end{array}$  \n",
    "  \n",
    "<br>  \n",
    "\n",
    "使用神经网络转换：  \n",
    "$a_1x_1+b_1x_2+c_1x_3=y_1$  \n",
    "$a_1xp_1+b_1xp_2+c_1xp_3=yp_1$  \n",
    "  \n",
    "$a_2x_1+b_2x_2+c_2x_3=y_2$  \n",
    "$a_2xp_1+b_2xp_2+c_2xp_3=yp_2$  \n",
    "  \n",
    "$a_3x_1+b_3x_2+c_3x_3=y_3$  \n",
    "$a_3xp_1+b_3xp_2+c_3xp_3=yp_3$   "
   ]
  },
  {
   "cell_type": "code",
   "execution_count": null,
   "metadata": {},
   "outputs": [],
   "source": []
  }
 ],
 "metadata": {
  "kernelspec": {
   "display_name": "Python 3",
   "language": "python",
   "name": "python3"
  },
  "language_info": {
   "codemirror_mode": {
    "name": "ipython",
    "version": 3
   },
   "file_extension": ".py",
   "mimetype": "text/x-python",
   "name": "python",
   "nbconvert_exporter": "python",
   "pygments_lexer": "ipython3",
   "version": "3.6.10"
  }
 },
 "nbformat": 4,
 "nbformat_minor": 4
}
