{
 "cells": [
  {
   "cell_type": "markdown",
   "metadata": {},
   "source": [
    "### 去卷积（反卷积）   \n",
    " 原文：https://www.zhihu.com/question/48279880   \n",
    "   \n",
    " 反卷积，去卷积（dilated conv、deconv、fractional-strided conv ）三种叫法  \n",
    "  \n",
    "#### 上采样    \n",
    "  \n",
    "  在应用在计算机视觉的深度学习领域，由于输入图像通过卷积神经网络(CNN)提取特征后，输出的尺寸往往会变小，而有时我们需要将图像恢复到原来的尺寸以便进行进一步的计算，这个采用扩大图像尺寸，实现图像由小分辨率到大分辨率的映射的操作，叫做上采样(Upsample)。  \n",
    "    \n",
    "#### 反卷积  \n",
    "  \n",
    "  上采样有3种常见的方法：双线性插值(bilinear)，反卷积(Transposed Convolution)，反池化(Unpooling)，我们这里只讨论反卷积。这里指的反卷积，也叫转置卷积，它并不是正向卷积的完全逆过程，用一句话来解释：反卷积是一种特殊的正向卷积，先按照一定的比例通过补 0 来扩大输入图像的尺寸，接着旋转卷积核，再进行正向卷积。\n",
    "\n",
    "<br>  \n",
    "  \n",
    "* 根据补0的方式不同，有两种方式，且生成的尺寸也不同。    \n",
    "\n",
    "![](../img/CNN/dccn1.gif)   \n",
    "  \n",
    "<br>  \n",
    "\n",
    "<br>  \n",
    "\n",
    "![](../img/CNN/dccn2.gif)    \n",
    "  \n",
    "   \n",
    "<br>  \n",
    "\n",
    "<br>  \n",
    "\n",
    "![](../img/CNN/DCNN1.PNG)  "
   ]
  },
  {
   "cell_type": "code",
   "execution_count": null,
   "metadata": {},
   "outputs": [],
   "source": []
  }
 ],
 "metadata": {
  "kernelspec": {
   "display_name": "Python 3",
   "language": "python",
   "name": "python3"
  },
  "language_info": {
   "codemirror_mode": {
    "name": "ipython",
    "version": 3
   },
   "file_extension": ".py",
   "mimetype": "text/x-python",
   "name": "python",
   "nbconvert_exporter": "python",
   "pygments_lexer": "ipython3",
   "version": "3.7.6"
  }
 },
 "nbformat": 4,
 "nbformat_minor": 4
}
