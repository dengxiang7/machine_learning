{
 "cells": [
  {
   "cell_type": "markdown",
   "metadata": {},
   "source": [
    "### Sigmoid饱和区问题  \n",
    "\n",
    "    \n",
    "#### Sigmoid函数  \n",
    "  \n",
    "![](../../img/Pattern_recognition/neural_networks/activateFun.PNG)   \n",
    "  \n",
    "#### 饱和区问题    \n",
    "  \n",
    "  1、函数快速进入平缓区，梯度趋于0，这样在深度神经网络BP训练的时候根据链式法则有：高层梯度接近0时对下层的网络梯度影响越小，造成下层梯度变化微小（相当于下层梯度的学习步伐是接近0的，梯度变化微小），会出现梯度消失的现象，造成神经网络训练的缓慢。  \n",
    "    \n",
    "   相当于只训练靠近输出层的网络，输入层的网络训练效果微乎其微。\n",
    "    \n",
    "  2、快速进入平缓区之后，大量的输入，在输出上的差异变的很小，造成大量输入变的不可区分。  \n",
    "    \n",
    "<br>  \n",
    "  \n",
    "#### 解决方法  \n",
    "  \n",
    "1、换用Relu、LeakyRelu、Elu等激活函数  \n",
    "    \n",
    "ReLu：让激活函数的导数为1\n",
    "\n",
    "LeakyReLu：包含了ReLu的几乎所有有点，同时解决了ReLu中0区间带来的影响\n",
    "\n",
    "ELU：和LeakyReLu一样，都是为了解决0区间问题，相对于来，elu计算更耗时一些（为什么）  \n",
    "  \n",
    "<br>  \n",
    "  \n",
    "2、BatchNormalization  \n",
    "  \n",
    "BN本质上是解决传播过程中的梯度问题  \n",
    "  \n",
    "<br>  \n",
    "  \n",
    "3、ResNet残差结构  \n",
    "  \n",
    "<br>  \n",
    "  \n",
    "4、LSTM结构  \n",
    "  \n",
    "<br>  \n",
    "  \n",
    "5、预训练加finetunning  \n",
    "   \n",
    "<br>  \n",
    "  \n",
    "6、梯度剪切、正则  \n"
   ]
  },
  {
   "cell_type": "code",
   "execution_count": null,
   "metadata": {},
   "outputs": [],
   "source": []
  }
 ],
 "metadata": {
  "kernelspec": {
   "display_name": "Python 3",
   "language": "python",
   "name": "python3"
  },
  "language_info": {
   "codemirror_mode": {
    "name": "ipython",
    "version": 3
   },
   "file_extension": ".py",
   "mimetype": "text/x-python",
   "name": "python",
   "nbconvert_exporter": "python",
   "pygments_lexer": "ipython3",
   "version": "3.7.6"
  }
 },
 "nbformat": 4,
 "nbformat_minor": 4
}
