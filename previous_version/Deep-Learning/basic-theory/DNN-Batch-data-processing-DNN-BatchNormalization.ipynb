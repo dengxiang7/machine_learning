{
 "cells": [
  {
   "cell_type": "markdown",
   "metadata": {},
   "source": [
    "### 深度神经网络中如何处理批量数据\n",
    "### 深度神经网络中加入批量标准化层如何处理数据\n"
   ]
  },
  {
   "cell_type": "code",
   "execution_count": null,
   "metadata": {},
   "outputs": [],
   "source": [
    "import torch\n",
    "from torch.autograd import Variable\n",
    "import torch.nn as nn\n",
    "import torch.nn.functional as F\n",
    "import  argparse\n",
    "from torch import autograd as autograd"
   ]
  },
  {
   "cell_type": "markdown",
   "metadata": {},
   "source": [
    "### 单层的线性模型处理小批量"
   ]
  },
  {
   "cell_type": "code",
   "execution_count": null,
   "metadata": {},
   "outputs": [],
   "source": [
    "m = nn.Linear(20, 30)\n",
    "input = autograd.Variable(torch.randn(128, 20))\n",
    "output = m(input)"
   ]
  },
  {
   "cell_type": "markdown",
   "metadata": {},
   "source": [
    "### 单层的批量标准化模型处理小批量"
   ]
  },
  {
   "cell_type": "code",
   "execution_count": null,
   "metadata": {},
   "outputs": [],
   "source": [
    "B = nn.BatchNorm1d(20, 0.3)\n",
    "input = autograd.Variable(torch.randn(128, 20))\n",
    "output = B(input)\n",
    "print(output)"
   ]
  },
  {
   "cell_type": "markdown",
   "metadata": {},
   "source": [
    "### python *的用法\n",
    "1、表示乘号  \n",
    "2、表示倍数  \n",
    "3、*parameters 表示接收多个参数放入parameters元组中  \n",
    "4、函数在调用多个参数时，在列表、元组、集合、字典及其他可迭代对象作为实参，并在前面加 *  \n",
    "     如   *（1,2,3）解释器将自动进行解包然后传递给多个单变量参数（参数个数要对应相等）  \n",
    "##### 即在列表、元组、集合、字典及其他可迭代的对象前面加 *，就等于直接迭代这些变量"
   ]
  },
  {
   "cell_type": "code",
   "execution_count": 4,
   "metadata": {},
   "outputs": [
    {
     "name": "stdout",
     "output_type": "stream",
     "text": [
      "0 1 2\n"
     ]
    }
   ],
   "source": [
    "ab=[0,1,2]\n",
    "print(*ab)"
   ]
  },
  {
   "cell_type": "markdown",
   "metadata": {},
   "source": [
    "### 两层的线性模型+批量标准化 去  处理小批量"
   ]
  },
  {
   "cell_type": "code",
   "execution_count": null,
   "metadata": {},
   "outputs": [],
   "source": [
    "in_f=20\n",
    "out_f=30\n",
    "layers=[nn.Linear(in_f, out_f)]\n",
    "layers.append(nn.BatchNorm1d(out_f,0.3))\n",
    "input = autograd.Variable(torch.randn(128, 20))\n",
    "\n",
    "model=nn.Sequential(*layers)\n",
    "output=model(input)\n",
    "print(output)\n",
    "print(output.size())"
   ]
  },
  {
   "cell_type": "markdown",
   "metadata": {},
   "source": [
    "#### 总结\n",
    "所以在一个深度网络里加入小批量样本的原理就是：每一层都处理完这个小批量样本后，再把整体的数据传入下一层。  \n",
    "所以如果一个深度网络中的某一层是批量标准化： 原理就是对上一层传下来的批量数据进行标准化就行了。  \n",
    "###### 主要就是每一层都处理所有的批量数据才把整个处理后的数据传入下一层"
   ]
  },
  {
   "cell_type": "code",
   "execution_count": null,
   "metadata": {},
   "outputs": [],
   "source": []
  }
 ],
 "metadata": {
  "kernelspec": {
   "display_name": "Python 3",
   "language": "python",
   "name": "python3"
  },
  "language_info": {
   "codemirror_mode": {
    "name": "ipython",
    "version": 3
   },
   "file_extension": ".py",
   "mimetype": "text/x-python",
   "name": "python",
   "nbconvert_exporter": "python",
   "pygments_lexer": "ipython3",
   "version": "3.7.6"
  }
 },
 "nbformat": 4,
 "nbformat_minor": 4
}
