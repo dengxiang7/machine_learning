{
 "cells": [
  {
   "cell_type": "markdown",
   "metadata": {},
   "source": [
    "### 批量标准化加速DNN的训练    \n",
    "  \n",
    "<br>  \n",
    "  \n",
    "标准化的操作：  $../Mathematics/numerical-processing/normalization.ipynb$      \n",
    "  \n",
    "<br>  \n",
    "\n",
    "参考：https://blog.csdn.net/sinat_33741547/article/details/87158830\n",
    "\n",
    "<br>  \n",
    "  \n",
    "<br>  \n",
    "\n",
    "  \n",
    "批量标准化通过降低内部协方差的偏移来加速深度神经网络的训练。  \n",
    "  \n",
    "batch norm用来加速网络收敛及防止梯度消失等神经网络常见的问题，那么batch norm为什么有效呢？ 从源头出发，神经网络难以训练的原因是什么？\n",
    "\n",
    "\n",
    "  \n",
    "    \n",
    "<br>  \n",
    "  \n",
    "#### internal covariate shift   \n",
    "  \n",
    "内部协方差的偏移：    \n",
    "  \n",
    "每次某个层的参数改变，就会导致同一个分布数据的输入得到不同数据分布的输出。   \n",
    "  \n",
    "深度神经网络训练的困难性，随着网络深度的加深而变的越来越苦难。 神经网络每层的输入分布随着周期进行而改变。原始数据是一个分布，要得到的目标数据是一个分布， 而中间层的分布随着参数的改变而不停的改变。所以要得到中间层的分布，可能要遍历很多的分布组合。需要一个小的学习率，等其他原因导致DNN的训练很难。   \n",
    "  \n",
    "出现问题的地方：  \n",
    "  \n",
    "  各层相互影响，\n",
    "  \n",
    "#### 解决思想\n",
    "\n",
    "   让各层的输入分布都独立同分布。  \n",
    "     \n",
    "#### 白化  \n",
    "  \n",
    "  白化（Whitening）是机器学习里面常用的一种规范化数据分布的方法，主要是PCA白化与ZCA白化。  \n",
    "  \n",
    "  白化是对输入数据分布进行变换，进而达到以下两个目的：  \n",
    "  \n",
    "1、使得输入特征分布具有相同的均值与方差，其中PCA白化保证了所有特征分布均值为0，方差为1；而ZCA白化则保证了所有特征分布均值为0，方差相同；\n",
    "2、去除特征之间的相关性。  \n",
    "\n",
    " 通过白化操作，我们可以减缓ICS的问题，进而固定了每一层网络输入分布，加速网络训练过程的收敛。  \n",
    "   \n",
    "<br>  \n",
    "  \n",
    "#### 正则化  \n",
    "  \n",
    "  \n",
    "  "
   ]
  },
  {
   "cell_type": "code",
   "execution_count": null,
   "metadata": {},
   "outputs": [],
   "source": []
  }
 ],
 "metadata": {
  "kernelspec": {
   "display_name": "Python 3",
   "language": "python",
   "name": "python3"
  },
  "language_info": {
   "codemirror_mode": {
    "name": "ipython",
    "version": 3
   },
   "file_extension": ".py",
   "mimetype": "text/x-python",
   "name": "python",
   "nbconvert_exporter": "python",
   "pygments_lexer": "ipython3",
   "version": "3.7.6"
  }
 },
 "nbformat": 4,
 "nbformat_minor": 4
}
