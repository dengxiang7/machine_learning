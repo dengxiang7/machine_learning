{
 "cells": [
  {
   "cell_type": "markdown",
   "metadata": {},
   "source": [
    "### 自编码器(AE)  \n",
    "自编码器是一种有效的提取特征的方法，与PCA无监督降维不同，它实际上是独立于有监督、无监督算法外的自监督算法。  \n",
    "  \n",
    "**自编码器：特征提取，降维，参数初始化同步完成（解码之间的网络对应后面自己要使用到的网络结构，此时在编码部分得到权重W就是我们自己网络权重要初始化的值（因为编码的权重较为完整的保存了特征）；且解码开始前的输入；就是我们得到的降维数据；特征** \n",
    "  \n",
    "<br>  \n",
    "\n",
    "* 传统BP网络的缺点：  \n",
    "    1、梯度越来越稀疏：从顶层往下校正信号越来越小  \n",
    "    2、收敛到局部极小值  \n",
    "    3、只能进行有监督学习  \n",
    "        \n",
    "<br>  \n",
    "\n",
    "自编码器:是一种无监督学习算法，使用反向传播算法，并让输出值等于输入值。；自编码器就是尽可能复现输入信号的神经网络，自编码器必须捕捉可以代表输入信号的关键因素，（类似PCA）  \n",
    "  \n",
    "自编码的结构：  \n",
    "![](../../img/Pattern_recognition/neural_networks/AE1.PNG)  \n",
    "  \n",
    "\n",
    "自编码器的网络：\n",
    "![](../../img/Pattern_recognition/neural_networks/AE2.PNG) \n",
    "  \n",
    "    \n",
    "  \n",
    "###   深度自编码器（DAE）  \n",
    "就是自编码中间的隐层有多个。可以对应建立的网络结构  \n",
    "![](../../img/Pattern_recognition/neural_networks/DAE1.PNG)  \n",
    "    \n",
    "<br>  \n",
    "  \n",
    "深度自编码器的训练过程逐层训练的：训练一层固定一层 递进一层：  \n",
    "![](../../img/Pattern_recognition/neural_networks/DAE2.PNG) \n",
    "![](../../img/Pattern_recognition/neural_networks/DAE3.PNG)   \n",
    "  \n",
    "  \n",
    "<br>  \n",
    "\n",
    "### 堆栈式自编码器（SAE）\n",
    "\n",
    "\n"
   ]
  },
  {
   "cell_type": "code",
   "execution_count": null,
   "metadata": {},
   "outputs": [],
   "source": []
  },
  {
   "cell_type": "code",
   "execution_count": null,
   "metadata": {},
   "outputs": [],
   "source": []
  }
 ],
 "metadata": {
  "kernelspec": {
   "display_name": "Python 3",
   "language": "python",
   "name": "python3"
  },
  "language_info": {
   "codemirror_mode": {
    "name": "ipython",
    "version": 3
   },
   "file_extension": ".py",
   "mimetype": "text/x-python",
   "name": "python",
   "nbconvert_exporter": "python",
   "pygments_lexer": "ipython3",
   "version": "3.6.10"
  }
 },
 "nbformat": 4,
 "nbformat_minor": 4
}
