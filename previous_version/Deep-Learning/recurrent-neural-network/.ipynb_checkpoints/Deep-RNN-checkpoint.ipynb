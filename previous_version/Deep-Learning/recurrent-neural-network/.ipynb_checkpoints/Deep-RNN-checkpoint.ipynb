{
 "cells": [
  {
   "cell_type": "markdown",
   "metadata": {},
   "source": [
    "### 深度循环神经网络  \n",
    "在基础知识中介绍的神经网络中都是只有一个单向的隐藏层，而在实际应用中往往不只有一个单隐藏层，往往可能是多隐层，双向的。  \n",
    "  \n",
    " ![](../img/rnn/rnn6.PNG)   \n",
    "      \n",
    "        \n",
    "<br>  \n",
    "  \n",
    "$H_t^{(1)}=\\phi(X_tW_{hx}^{(1)}+H_{t-1}^{(1)}W_{hh}^{(1)} +b_h^{(1)})$  \n",
    "  \n",
    "<br>  \n",
    "\n",
    "$H_t^{(i)}=\\phi(H_t^{(i-1)}W_{hx}^{(i)}+H_{t-1}^{(i)}W_{hh}^{(i)} +b_h^{(i)})$  \n",
    "  \n",
    "<br>   \n",
    "\n",
    "$O_t=H_t^{L}W_{qh}+b_q$  \n",
    "  \n",
    "    \n",
    "把隐藏层的计算换成门控单元，就是深度门控循环神经网络。    \n",
    "  \n",
    "    \n",
    "      \n",
    " <br>  \n",
    "   \n",
    " <br>  \n",
    "   \n",
    "<br>  \n",
    "\n",
    "### 双向循环神经网络  \n",
    "前面介绍的都是当前时间步都是由之间时间步决定，有时候当前时间步也可能有之后的时间步决定，对于这种问题提出了双向循环神经网络。  \n",
    "  \n",
    "<br>  \n",
    "  \n",
    "  隐藏层在到达时间序列终点T,后反向传播，对称。\n",
    "   \n",
    "  ![](../img/rnn/rnn7.PNG)   \n",
    "    \n",
    "       \n",
    "        \n",
    "<br>  \n",
    "  \n",
    "$ \\overrightarrow{ H_t}=\\phi(X_tW_{hx}^{(f)}+\\overrightarrow{ H_{t-1}^{(f)} }W_{hh}^{(f)} +b_h^{(f)})$  \n",
    "  \n",
    "<br>  \n",
    "\n",
    "$ \\overleftarrow{ H_t }=\\phi(X_tW_{hx}^{(b)}+\\overleftarrow{ H_{t+1}^{(b)} }W_{hh}^{(f)} +b_h^{(b)})$   \n",
    "  \n",
    "<br>     \n",
    "  \n",
    "  连接两个方向的时间步T的隐藏状态$\\overleftarrow{ H_t } \\quad \\overrightarrow{ H_t}$ 得到最终的隐藏状态$H_t$\n",
    "  \n",
    "    \n",
    "<br>    \n",
    "\n",
    "$O_t=H_tW_{qh}+b_q$     "
   ]
  },
  {
   "cell_type": "code",
   "execution_count": null,
   "metadata": {},
   "outputs": [],
   "source": []
  }
 ],
 "metadata": {
  "kernelspec": {
   "display_name": "Python 3",
   "language": "python",
   "name": "python3"
  },
  "language_info": {
   "codemirror_mode": {
    "name": "ipython",
    "version": 3
   },
   "file_extension": ".py",
   "mimetype": "text/x-python",
   "name": "python",
   "nbconvert_exporter": "python",
   "pygments_lexer": "ipython3",
   "version": "3.6.10"
  }
 },
 "nbformat": 4,
 "nbformat_minor": 4
}
