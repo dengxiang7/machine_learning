{
 "cells": [
  {
   "cell_type": "markdown",
   "metadata": {},
   "source": [
    "# 子词嵌入（subword embedding）  \n",
    "  \n",
    "  词根和由词根组成的词。dog和dogs。子词嵌入利用了构词学的内容。但是上述的word2vec里跳字模型和连续词袋模型并没有用到子嵌入的内容。  \n",
    "    \n",
    "  在子词嵌入中每个中心词被表示成子词的集合。  \n",
    "    \n",
    " 则如果子词的向量为$Z_g$，那么跳字模型的中心词(它的子词并集$\\Omega$)向量为$v_w=\\sum_{g \\in \\Omega} z_g$  \n",
    "   \n",
    "<br>  \n",
    "\n",
    "<br> \n",
    " \n",
    "# 全局向量的词嵌入（GloVe）  \n",
    "  \n",
    "  "
   ]
  },
  {
   "cell_type": "code",
   "execution_count": null,
   "metadata": {},
   "outputs": [],
   "source": []
  }
 ],
 "metadata": {
  "kernelspec": {
   "display_name": "Python 3",
   "language": "python",
   "name": "python3"
  },
  "language_info": {
   "codemirror_mode": {
    "name": "ipython",
    "version": 3
   },
   "file_extension": ".py",
   "mimetype": "text/x-python",
   "name": "python",
   "nbconvert_exporter": "python",
   "pygments_lexer": "ipython3",
   "version": "3.7.6"
  }
 },
 "nbformat": 4,
 "nbformat_minor": 4
}
