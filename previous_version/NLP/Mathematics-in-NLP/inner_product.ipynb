{
 "cells": [
  {
   "cell_type": "markdown",
   "id": "9b7992c6",
   "metadata": {},
   "source": [
    "# 点积\n",
    "点积（内积、标积用$\\cdot$表示）：也被称为内积这是因为两个向量或者两个矩阵（第一个矩阵的行数和第二个矩阵的列数）的内部维度必须一致。也被称为标积因为输出是标量。\n",
    "\n",
    "叉积（向量积、外积用$\\times$表示）：结果是向量"
   ]
  },
  {
   "cell_type": "code",
   "execution_count": null,
   "id": "ee5d115a",
   "metadata": {},
   "outputs": [],
   "source": []
  }
 ],
 "metadata": {
  "kernelspec": {
   "display_name": "Python 3 (ipykernel)",
   "language": "python",
   "name": "python3"
  },
  "language_info": {
   "codemirror_mode": {
    "name": "ipython",
    "version": 3
   },
   "file_extension": ".py",
   "mimetype": "text/x-python",
   "name": "python",
   "nbconvert_exporter": "python",
   "pygments_lexer": "ipython3",
   "version": "3.9.7"
  }
 },
 "nbformat": 4,
 "nbformat_minor": 5
}
