{
 "cells": [
  {
   "cell_type": "markdown",
   "id": "21242022",
   "metadata": {},
   "source": [
    "# 语义分析\n",
    "&emsp;&emsp; 让机器能够理解词的意义。  \n",
    "&emsp;&emsp; ITF-IDF向量：估算了词在文本块中的重要度。我们使用TF-IDF向量和矩阵来表明$\\color{#F00}{每个词对于文档集合中一小段文本总体含义的重要度。}$TF-IDF不仅使用于词，同样适用于n-gram。\n",
    "  \n",
    "  \n",
    "### 语义分析算法\n",
    "    1、隐形语义分析（latent semantic analysis， LSA）：一种揭示词组合意义的算法，该算法通过计算向量来表示上述词组合的意义。该算法不仅可以把词的意义表示为向量，还可以用向量来表示整篇文档的意义（和PCA的数学计算方法一样）。（可以分解到任意多个主题中）\n",
    "      \n",
    "    2 、线性判别分析（linear discriminant analysis，LDA）: 分解到单个主题中  \n",
    "      \n",
    "    3、隐性迪利克雷分布（latent Dirichlent allocation，LDiA）  ：可以分解到任意多个主题中。\n",
    "  "
   ]
  },
  {
   "cell_type": "code",
   "execution_count": null,
   "id": "dfb1de4d",
   "metadata": {},
   "outputs": [],
   "source": []
  }
 ],
 "metadata": {
  "kernelspec": {
   "display_name": "Python 3 (ipykernel)",
   "language": "python",
   "name": "python3"
  },
  "language_info": {
   "codemirror_mode": {
    "name": "ipython",
    "version": 3
   },
   "file_extension": ".py",
   "mimetype": "text/x-python",
   "name": "python",
   "nbconvert_exporter": "python",
   "pygments_lexer": "ipython3",
   "version": "3.9.7"
  }
 },
 "nbformat": 4,
 "nbformat_minor": 5
}
