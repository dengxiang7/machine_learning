{
 "cells": [
  {
   "cell_type": "markdown",
   "metadata": {},
   "source": [
    "###  卷积  \n",
    "卷积：通过两个函数f 和g 生成第三个函数的一种数学算子，表征函数f 与g经过翻转和平移的重叠部分函数值乘积对重叠长度的积分。  \n",
    "  \n",
    "<br>    \n",
    "    \n",
    "函数 $ f(y)\\quad$ $g(z)\\quad$ 是有各自变化的自变量的，且各自的自变量变化不互相影响。  \n",
    "  \n",
    "    \n",
    "卷积就是把$ f(y)\\quad$ $g(z)\\quad$经过反转和平移后的两函数重叠部分的两函数值相乘（本身两函数自变量各自变化，卷积时重叠部分自变量同时变化）。  \n",
    "  \n",
    "    \n",
    "连续型：$(f*g)(x)\\;=\\;\\int_{-\\infty}^{\\infty} \\; f(\\tau)g(x-\\tau) d\\tau$   \n",
    "  \n",
    "离散型：$(x*h)(n)\\;=\\;\\sum_{i=-\\infty}^{\\infty} \\; x(i)h(n-i) $  \n",
    "  \n",
    "    \n",
    "      \n",
    " 这里反转$\\;\\;g(\\tau)\\Rightarrow g(-\\tau)$  \n",
    "   \n",
    "     \n",
    " 这里平移：$\\;\\;g(-\\tau)\\Rightarrow g(x-\\tau)$   \n",
    "   \n",
    "     \n",
    " 且有性质：$f*g \\;=\\;g*f$  \n",
    "   \n",
    "     \n",
    " 卷积将是过去所有连续信号$f(\\tau)$经过系统的响应$g(x-\\tau)$之后得到的在观察那一刻的加权叠加。  \n",
    "   \n",
    "  \n",
    "    \n",
    " ### 注意  \n",
    "连续型：$(f*g)(n)\\;=\\;\\int_{-\\infty}^{\\infty} \\; f(\\tau)g(n-\\tau) d\\tau$   \n",
    "  \n",
    "离散型：$(x*h)(n)\\;=\\;\\sum_{i=-\\infty}^{\\infty} \\; x(i)h(n-i) $     \n",
    "    \n",
    "  <br>   \n",
    "观察这两个式子有：$n=\\tau +(n-\\tau)  \\quad令：\\tau=x \\quad ; \\;(n-\\tau)=y\\;\\;有：x+y=n$ 可得对卷积函数的变量n的每一个取值都是函数$f$和函数$g$的自变量$x和y$组成的直线范围，上的函数$f与g$值的乘积的积分。  \n",
    "而：表征函数f 与g经过翻转和平移的重叠部分函数值乘积对重叠长度的积 \n",
    "![](../../img/math/function_analysis/convolution1.webp)  \n",
    "  \n",
    "   \n",
    "重这个图上可以看出卷积函数就是函数$f与g$值的乘积的积分沿直线方向卷动。故为卷积。   "
   ]
  },
  {
   "cell_type": "code",
   "execution_count": null,
   "metadata": {},
   "outputs": [],
   "source": []
  }
 ],
 "metadata": {
  "kernelspec": {
   "display_name": "Python 3",
   "language": "python",
   "name": "python3"
  },
  "language_info": {
   "codemirror_mode": {
    "name": "ipython",
    "version": 3
   },
   "file_extension": ".py",
   "mimetype": "text/x-python",
   "name": "python",
   "nbconvert_exporter": "python",
   "pygments_lexer": "ipython3",
   "version": "3.6.10"
  }
 },
 "nbformat": 4,
 "nbformat_minor": 4
}
