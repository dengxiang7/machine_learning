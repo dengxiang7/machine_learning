{
 "cells": [
  {
   "cell_type": "markdown",
   "metadata": {},
   "source": [
    "### 向量运算  \n",
    "##### 点积\n",
    "两个向量a,b的点积为$a = [a1, a2,…, an]\\quad b = [b1, b2,…, bn]\\quad a·b=a1b1+a2b2+……+anbn$  \n",
    "  \n",
    "点积的几何意义：$a·b=|a|*|b|cos\\theta \\quad$ 第一个向量投影到第二个向量 \n"
   ]
  },
  {
   "cell_type": "code",
   "execution_count": null,
   "metadata": {},
   "outputs": [],
   "source": []
  }
 ],
 "metadata": {
  "kernelspec": {
   "display_name": "Python 3",
   "language": "python",
   "name": "python3"
  },
  "language_info": {
   "codemirror_mode": {
    "name": "ipython",
    "version": 3
   },
   "file_extension": ".py",
   "mimetype": "text/x-python",
   "name": "python",
   "nbconvert_exporter": "python",
   "pygments_lexer": "ipython3",
   "version": "3.6.10"
  }
 },
 "nbformat": 4,
 "nbformat_minor": 4
}
