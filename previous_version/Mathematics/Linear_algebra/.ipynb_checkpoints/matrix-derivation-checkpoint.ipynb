{
 "cells": [
  {
   "cell_type": "markdown",
   "metadata": {},
   "source": [
    "## 矩阵求导\n",
    "### 1.$\\frac{\\partial(X^TAX)}{\\partial X}=(A+A^T)X$   &emsp;&ensp;&ensp;$\\frac{\\partial(X^TX)}{\\partial(X)}=2X$  \n",
    "\n",
    "### 2.$\\frac{\\partial(|A|)}{\\partial A}=|A|(A^{-1})^T$  \n",
    "  \n",
    "### 3.  $\\frac{\\partial(XW)^T(XW)}{\\partial W}=2X^T(XW) \\qquad X_{(2 \\times n)}\\;W_{(n \\times 1)}={(XW)}_{(2 \\times 1)} 比较维度故X^T放前面2X^T(XW)$    \n",
    "  \n",
    "### 4. $\\;标量对向量求导位置不动\\quad y \\quad X=[x_1,x_2,{\\cdots},x_n]\\quad \\frac{\\partial y}{\\partial X}=[\\frac{\\partial y}{\\partial x_1 },\\frac{\\partial y}{\\partial x_2},{\\cdots},\\frac{\\partial y}{\\partial x_n}]$  \n",
    "  \n",
    "### 5. $\\;向量对标量求导转置 \\quad X=[x_1,x_2,{\\cdots},x_n] \\quad y \\quad \\frac{\\partial X}{\\partial y}=[\\frac{\\partial x_1}{\\partial y },\\frac{\\partial x_2}{\\partial y},{\\cdots},\\frac{\\partial x_n}{\\partial y}]^T$  \n"
   ]
  },
  {
   "cell_type": "code",
   "execution_count": null,
   "metadata": {},
   "outputs": [],
   "source": []
  }
 ],
 "metadata": {
  "kernelspec": {
   "display_name": "Python 3",
   "language": "python",
   "name": "python3"
  },
  "language_info": {
   "codemirror_mode": {
    "name": "ipython",
    "version": 3
   },
   "file_extension": ".py",
   "mimetype": "text/x-python",
   "name": "python",
   "nbconvert_exporter": "python",
   "pygments_lexer": "ipython3",
   "version": "3.6.10"
  }
 },
 "nbformat": 4,
 "nbformat_minor": 4
}
