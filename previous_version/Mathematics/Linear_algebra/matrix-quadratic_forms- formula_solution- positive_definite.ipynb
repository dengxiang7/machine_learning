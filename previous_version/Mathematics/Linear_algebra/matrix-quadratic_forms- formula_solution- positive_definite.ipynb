{
 "cells": [
  {
   "cell_type": "markdown",
   "metadata": {},
   "source": [
    "## 矩阵的逆\n",
    "$A^{-1}$的充要条件：$\\;1.|A| \\not = 0$  \n",
    "$\\qquad\\qquad\\qquad 2.r(A)=n \\qquad$在行向量线性无关时，行数大于列数则必然可逆（样本数大于属性数）  \n",
    "$\\qquad\\qquad\\qquad 3.A是正定的$\n"
   ]
  },
  {
   "cell_type": "code",
   "execution_count": null,
   "metadata": {},
   "outputs": [],
   "source": []
  }
 ],
 "metadata": {
  "kernelspec": {
   "display_name": "Python 3",
   "language": "python",
   "name": "python3"
  },
  "language_info": {
   "codemirror_mode": {
    "name": "ipython",
    "version": 3
   },
   "file_extension": ".py",
   "mimetype": "text/x-python",
   "name": "python",
   "nbconvert_exporter": "python",
   "pygments_lexer": "ipython3",
   "version": "3.6.10"
  }
 },
 "nbformat": 4,
 "nbformat_minor": 4
}
