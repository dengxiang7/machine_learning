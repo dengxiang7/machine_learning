{
 "cells": [
  {
   "cell_type": "markdown",
   "metadata": {},
   "source": [
    "# 线性同余发生器    \n",
    "  \n",
    "  (现在产生不了随机数？)\n",
    "  \n",
    "  简称LCG，是一种能产生具有不连续计算的伪随机序列的分段线性方程的算法，它代表了最古老和最知名的伪随机序列生成器算法之一。  \n",
    "    \n",
    " **生成器：(递归公式)**  \n",
    "   \n",
    "   $$X_{n+1}=(aX_n+b) \\quad mod \\quad m$$  \n",
    "     \n",
    "<br>  \n",
    "  \n",
    "其中 \n",
    "\n",
    "1、最总生成一个序列：$X=\\{X_1,……，X_n\\}$是伪随机数列。  \n",
    "  \n",
    "2、m (m>0) 表示模量 （常量） （最大周期为m-1） \n",
    "  \n",
    "3、a,b是常量  \n",
    "  \n",
    "4、$X_{n+1}$是序列中第n+1个数，$X_{n}$是序列中第n个数   \n",
    "  \n",
    "**5、$X_0$是密钥或者种子**\n",
    "  \n",
    "\n",
    "  \n"
   ]
  },
  {
   "cell_type": "code",
   "execution_count": null,
   "metadata": {},
   "outputs": [],
   "source": []
  }
 ],
 "metadata": {
  "kernelspec": {
   "display_name": "Python 3",
   "language": "python",
   "name": "python3"
  },
  "language_info": {
   "codemirror_mode": {
    "name": "ipython",
    "version": 3
   },
   "file_extension": ".py",
   "mimetype": "text/x-python",
   "name": "python",
   "nbconvert_exporter": "python",
   "pygments_lexer": "ipython3",
   "version": "3.7.6"
  }
 },
 "nbformat": 4,
 "nbformat_minor": 4
}
