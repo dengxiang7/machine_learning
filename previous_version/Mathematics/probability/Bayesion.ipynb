{
 "cells": [
  {
   "cell_type": "markdown",
   "metadata": {},
   "source": [
    "### 贝叶斯公式  \n",
    "$$P(X|Y)=\\frac{P(XY)}{P(Y)}\\;\\;\\Rightarrow\\;\\;P(XY)=P(X|Y)P(Y)$$  \n",
    "  \n",
    "$$P(Y|X)=\\frac{P(XY)}{P(X)}\\;\\;\\Rightarrow\\;\\;P(XY)=P(Y|X)P(X)$$  \n",
    "    \n",
    "<br>\n",
    "  \n",
    "记为贝叶斯公式：  \n",
    "$$P(X|Y)P(Y)=P(Y|X)P(X)\\;\\;\\Rightarrow\\;\\;P(X|Y)=\\frac{P(Y|X)P(X)}{P(Y)}$$    \n",
    "  \n",
    "    \n",
    "### 贝叶斯定理的解释\n",
    "传统派：认为事件发生的概率$p_{true}$是固定的。虽然我们不知道具体值，但这个值是固定的（每个样本都以概率$p_{true}$发生）。  \n",
    "$\\qquad\\;\\;\\;\\;$所以传统派研究样本空间样本分布（研究分布函数），根据样本空间样本分布确定概率$p_{estimate}$;试图通过研究样本分布得到的$p_{estimate}$来靠近$p_{true}$.  \n",
    "  \n",
    "    \n",
    "贝叶斯派：认为所有样本都是固定，样本发生的概率都是随机的；所以研究概率的分布函数。  \n",
    "    \n",
    "      \n",
    " <br>     \n",
    "    \n",
    "在贝叶斯看来：概率是随机的，我们通过一次次样本发生的概率来修正概率的分布函数  \n",
    "\n",
    " \n",
    "根据已有知识得出的先验概率$P(X)$  \n",
    "   \n",
    "调整因子（在先验概率下新样本发生的概率除以证据新样本发生的概率）：$\\frac{P(Y|X)}{P(Y)}$  \n",
    "  \n",
    "调整后验概率(即根据新样本发生的概率调整人们对概率的先验知识)：$P(X|Y)=\\frac{P(Y|X)P(X)}{P(Y)}$  \n",
    "  \n",
    "    \n",
    "      \n",
    "    \n",
    "### 极大似然估计（MLP）    \n",
    "思想是：认为概率是固定的；所以找到我们想要的某些样本，根据这些样本求能达到的最大概率。  \n",
    "  \n",
    "$$max\\;P(X|\\theta)=max\\;\\prod_{i=x_1}^{x_n}P(X_i|\\theta)$$    \n",
    "  \n",
    "    \n",
    "### 最大后验估计（MAP)\n",
    "最大后验：$max\\;\\;P(Y|X)P(X)$ \n",
    "  \n",
    " <br>\n",
    "      \n",
    "### 贝叶斯估计\n",
    "利用贝叶斯定理求出后验概率的整个分布（而不是只求最大值）：\n",
    "$P(X|Y)=\\frac{P(Y|X)P(X)}{P(Y)}$  \n",
    "  "
   ]
  },
  {
   "cell_type": "code",
   "execution_count": null,
   "metadata": {},
   "outputs": [],
   "source": []
  }
 ],
 "metadata": {
  "kernelspec": {
   "display_name": "Python 3",
   "language": "python",
   "name": "python3"
  },
  "language_info": {
   "codemirror_mode": {
    "name": "ipython",
    "version": 3
   },
   "file_extension": ".py",
   "mimetype": "text/x-python",
   "name": "python",
   "nbconvert_exporter": "python",
   "pygments_lexer": "ipython3",
   "version": "3.6.10"
  }
 },
 "nbformat": 4,
 "nbformat_minor": 4
}
