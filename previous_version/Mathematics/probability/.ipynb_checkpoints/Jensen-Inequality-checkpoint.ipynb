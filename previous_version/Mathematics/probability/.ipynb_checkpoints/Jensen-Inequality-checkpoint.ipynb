{
 "cells": [
  {
   "cell_type": "markdown",
   "metadata": {},
   "source": [
    "### Jensen不等式  \n",
    "  \n",
    "  函数$f(x) ： x\\in [a,b]\\;\\;$ x取值在\\[a,b\\]内可能性的加权和为1。且$f(x)\\;$在x的取值范围内是下凸函数的话以下不等式成立:  \n",
    "    \n",
    "  \n",
    "<br>  \n",
    "  \n",
    "下凸函数的Jenson不等式：$f(\\;E(x)\\;) \\; \\leq \\; E(\\;f(x)\\;)$   \n",
    "![](img/Jenson_1.PNG)  \n",
    "  \n",
    "<br>  \n",
    "\n",
    "<br>  \n",
    "\n",
    "上凸函数的Jenson不等式：$f(\\;E(x)\\;) \\; \\geq \\; E(\\;f(x)\\;)$   \n",
    "![](img/Jenson_2.PNG) "
   ]
  },
  {
   "cell_type": "code",
   "execution_count": null,
   "metadata": {},
   "outputs": [],
   "source": []
  }
 ],
 "metadata": {
  "kernelspec": {
   "display_name": "Python 3",
   "language": "python",
   "name": "python3"
  },
  "language_info": {
   "codemirror_mode": {
    "name": "ipython",
    "version": 3
   },
   "file_extension": ".py",
   "mimetype": "text/x-python",
   "name": "python",
   "nbconvert_exporter": "python",
   "pygments_lexer": "ipython3",
   "version": "3.7.6"
  }
 },
 "nbformat": 4,
 "nbformat_minor": 4
}
