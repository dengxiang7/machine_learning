{
 "cells": [
  {
   "cell_type": "markdown",
   "metadata": {},
   "source": [
    "### 互信息  \n",
    "  \n",
    "  互信息(Mutual Information)是信息论里一种有用的信息度量，它可以看成是一个随机变量中包含的关于另一个随机变量的信息量，或者说是一个随机变量由于已知另一个随机变量而减少的不肯定性   \n",
    "    \n",
    "<br>  \n",
    "  \n",
    "设两个随机变量(X,Y) 的联合分布为p(X,Y) ，边缘分布分别为p(X) ，p(Y)互信息I(X;Y) 是联合分布p(X,Y) 与边缘分布p(X) ，p(Y) 的相对熵，   \n",
    "  \n",
    "  $$\\sum_{x\\in X}\\sum_{y \\in Y}p(x,y) log \\; \\frac{p(x,y)}{p(x) p(y)}  $$"
   ]
  },
  {
   "cell_type": "code",
   "execution_count": null,
   "metadata": {},
   "outputs": [],
   "source": []
  }
 ],
 "metadata": {
  "kernelspec": {
   "display_name": "Python 3",
   "language": "python",
   "name": "python3"
  },
  "language_info": {
   "codemirror_mode": {
    "name": "ipython",
    "version": 3
   },
   "file_extension": ".py",
   "mimetype": "text/x-python",
   "name": "python",
   "nbconvert_exporter": "python",
   "pygments_lexer": "ipython3",
   "version": "3.7.6"
  }
 },
 "nbformat": 4,
 "nbformat_minor": 4
}
