{
 "cells": [
  {
   "cell_type": "markdown",
   "metadata": {},
   "source": [
    "### 个体与集成  \n",
    "同质集成：个体学习器同种类型，并且用相同的学习算法产生  \n",
    "  \n",
    "异质集成：个体学习器类型不同，用不同的学习算法产生  \n",
    "  \n",
    "串行集成：个体学习器之间存在强依赖关系，用序列化的串行方式集成个体学习器（代表Boosting）  \n",
    "  \n",
    "并行集成：个体学习器之间不存在强依赖关系，可以同时学习（代表Bagging和随机森林）\n",
    "  \n",
    "    \n",
    " 要获得好的集成效果，个体学习器应该好而不同，即个体学习器要有一定的准确性，并且要有多样性  \n",
    "   \n",
    "     \n",
    "#### 集成学习的好处\n",
    "1、从统计方面：由于学习任务的假设空间往往较大，可能有多个假设在训练集上达到同等性能，结合多个学习器会减小因误选而导致泛化误差大风险  \n",
    " \n",
    "   \n",
    "2、从计算方面：学习算法可能会陷入局部极值，通过多次运行，可降低陷入局部极值的风险  \n",
    "  \n",
    "    \n",
    "3、从表示方面：某些学习任务的真实假设可能不在当前学习算法所考虑的假设空间中，结合多个分类器可扩大假设空间  \n",
    "  \n",
    "    \n",
    "#####  性能分析  \n",
    "二分类问题$y\\in \\{-1,1\\}$,真实函数$f$,假设基分类器的错误率是$\\epsilon$;即对每一个基分类器$h_i$有$p(h_i(x) \\neq f(x))=\\epsilon$  \n",
    "    \n",
    "      \n",
    "      \n",
    "假设集成通过简单的投票法结合T个基分类器；若有半数的基分类器为正确，则集成分类就为正确  \n",
    "$$H(x)=sign\\left(\\sum_{i=1}^T h_i(x)\\right)$$  \n",
    "  \n",
    "    \n",
    "假设基分类器的错误率相互独立，则有Hoeffding不等式；知集成分类器H的错误率为：  \n",
    "$$p\\left(H(x) \\neq f(x)\\right)=\\sum_{k=0}^{\\lfloor T/2\\rfloor}\\left(_k^T  \\right) (1-\\epsilon)^k\\epsilon^{T_k}\\;\\;\\leq \\;\\; exp\\left(-\\frac{1}{2}T(1-2\\epsilon)^2\\right)$$    \n",
    "  \n",
    "    \n",
    "但是这个公式的前提是基学习器的误差相互独立。而对同一个学习任务而言，基学习器的误差不会相互独立。    \n",
    "     \n",
    "   \n"
   ]
  },
  {
   "cell_type": "code",
   "execution_count": null,
   "metadata": {},
   "outputs": [],
   "source": []
  }
 ],
 "metadata": {
  "kernelspec": {
   "display_name": "Python 3",
   "language": "python",
   "name": "python3"
  },
  "language_info": {
   "codemirror_mode": {
    "name": "ipython",
    "version": 3
   },
   "file_extension": ".py",
   "mimetype": "text/x-python",
   "name": "python",
   "nbconvert_exporter": "python",
   "pygments_lexer": "ipython3",
   "version": "3.6.10"
  }
 },
 "nbformat": 4,
 "nbformat_minor": 4
}
