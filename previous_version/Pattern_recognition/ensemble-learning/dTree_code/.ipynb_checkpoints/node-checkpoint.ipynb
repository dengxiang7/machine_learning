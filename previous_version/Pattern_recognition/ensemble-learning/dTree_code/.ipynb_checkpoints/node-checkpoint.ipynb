{
 "cells": [
  {
   "cell_type": "code",
   "execution_count": null,
   "metadata": {},
   "outputs": [],
   "source": [
    "class node:\n",
    "    \n",
    "    \n",
    "    def __init__(self,attributename,attributedata):\n",
    "        self.attributename=_attributename\n",
    "        self._attributedata=attributedata\n",
    "        self.childrens=[]\n",
    "        \n",
    "    def addchildrens(self,node):\n",
    "        self.childrens.append(node)\n",
    "        \n",
    "    def get_attribute(self):\n",
    "        return self.attributename,self._attributedata\n",
    "    \n",
    "    def get_childrens(self):\n",
    "        return self.childrens"
   ]
  }
 ],
 "metadata": {
  "kernelspec": {
   "display_name": "Python 3",
   "language": "python",
   "name": "python3"
  },
  "language_info": {
   "codemirror_mode": {
    "name": "ipython",
    "version": 3
   },
   "file_extension": ".py",
   "mimetype": "text/x-python",
   "name": "python",
   "nbconvert_exporter": "python",
   "pygments_lexer": "ipython3",
   "version": "3.6.10"
  }
 },
 "nbformat": 4,
 "nbformat_minor": 4
}
