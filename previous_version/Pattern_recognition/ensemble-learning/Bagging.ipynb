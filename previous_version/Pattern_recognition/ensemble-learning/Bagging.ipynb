{
 "cells": [
  {
   "cell_type": "markdown",
   "metadata": {},
   "source": [
    "### Bagging\n",
    "假设基分类器的错误率相互独立，则有Hoeffding不等式；知集成分类器H的错误率为：  \n",
    "$$p\\left(H(x) \\neq f(x)\\right)=\\sum_{k=0}^{\\lfloor T/2\\rfloor}\\left(_k^T  \\right) (1-\\epsilon)^k\\epsilon^{T_k}\\;\\;\\leq \\;\\; exp\\left(-\\frac{1}{2}T(1-2\\epsilon)^2\\right)$$ \n",
    "\n",
    "\n",
    "在假设基分类器的错误率相互独立的情况下，随着T(基分类器)个数的增加；集成器的错误率将成指数下降。  \n",
    "  \n",
    "所以得到了与串行截然不同的集成方式；并行集成。  \n",
    "  \n",
    "<br>  \n",
    "<br>  \n",
    "\n",
    "##### 并行集成  \n",
    "个体学习器之间差异性较大。  \n",
    "  \n",
    "希望个体学习之间差异性较大方法：  \n",
    "  \n",
    "1、个体学习器的训练样本尽可能不同  \n",
    "  \n",
    "  $\\qquad\\quad$样本有限，做不到每一个个体学习器都有不同的样本；那么允许部分样本重叠，所以采用自助采样法bootstrapping（有放回的采样）  \n",
    "     \n",
    "     \n",
    "#####    Bagging算法流程\n",
    "训练集$D=\\{(x_1,y_1),(x_1,y_1),\\cdots,(x_n,y_n)\\}$  \n",
    "  \n",
    "1、自助采样数据集$D_t$  \n",
    "  \n",
    "2、用数据集$D_t$训练一个个体分类器  \n",
    "  \n",
    "重复以上两步直到给定的个体学习器个数  \n",
    "  \n",
    "集成器(投票法)：$H(x)=\\underset{y \\in Y}{arg \\; max} \\sum_{t=1}^T I(h_t(x)=y)$   \n",
    "  \n",
    "    \n",
    "<br>  \n",
    "<br>  \n",
    "  \n",
    "### 随机森林  \n",
    "随机森林：建立多棵决策树；形成一个决策森林。集成时：对多棵树进行投票  \n",
    "  \n",
    "* 流程：  \n",
    "  \n",
    "  1、自助采样每棵树的数据集  \n",
    "    \n",
    "  2、对每个数据集生成一棵决策树；决策树生成时对节点属性的选择是：（随机属性的选择：以前在这个当前节点的候选属性集合中选取一个最好的属性；而现在是在候选属性集中再随机选取K个属性组成新的候选属性集）  \n",
    "    \n",
    "  3、最后集成时对多棵树进行投票  \n",
    "    \n",
    "      \n",
    "随机森林的随机性：来源于样本的随机性和属性的随机性 \n",
    "  "
   ]
  },
  {
   "cell_type": "code",
   "execution_count": null,
   "metadata": {},
   "outputs": [],
   "source": []
  }
 ],
 "metadata": {
  "kernelspec": {
   "display_name": "Python 3",
   "language": "python",
   "name": "python3"
  },
  "language_info": {
   "codemirror_mode": {
    "name": "ipython",
    "version": 3
   },
   "file_extension": ".py",
   "mimetype": "text/x-python",
   "name": "python",
   "nbconvert_exporter": "python",
   "pygments_lexer": "ipython3",
   "version": "3.6.10"
  }
 },
 "nbformat": 4,
 "nbformat_minor": 4
}
