{
 "cells": [
  {
   "cell_type": "code",
   "execution_count": null,
   "metadata": {},
   "outputs": [],
   "source": [
    "class treetools:\n",
    "    \n",
    "    def __init__(self,attribute,data):\n",
    "        self.attribute=attribute\n",
    "        self.data=data\n",
    "    \n",
    "    # 根据属性划分数据集\n",
    "    def getattributeD(self,name):\n",
    "        attNum=len(self.data)\n",
    "        data=self.data\n",
    "        #属性所在的索引位置\n",
    "        index=-1\n",
    "        for j in range(len(self.attribute))\n",
    "             if (self.attribute)[j] == name:\n",
    "                index=j\n",
    "        #属性的所有取值\n",
    "        attdata=data[,:index]\n",
    "        attdata=np.unique(attdata)\n",
    "        \n",
    "        \n",
    "        #创建字典  \n",
    "        Data={}\n",
    "        for i in range(attNum):\n",
    "            dt=data[i]\n",
    "            for j in range(len(attdata)):\n",
    "                if dt[index]==attdata[j]:\n",
    "                     Data[attdata[j]] = dt\n",
    "        return Data"
   ]
  }
 ],
 "metadata": {
  "kernelspec": {
   "display_name": "Python 3",
   "language": "python",
   "name": "python3"
  },
  "language_info": {
   "codemirror_mode": {
    "name": "ipython",
    "version": 3
   },
   "file_extension": ".py",
   "mimetype": "text/x-python",
   "name": "python",
   "nbconvert_exporter": "python",
   "pygments_lexer": "ipython3",
   "version": "3.6.10"
  }
 },
 "nbformat": 4,
 "nbformat_minor": 4
}
