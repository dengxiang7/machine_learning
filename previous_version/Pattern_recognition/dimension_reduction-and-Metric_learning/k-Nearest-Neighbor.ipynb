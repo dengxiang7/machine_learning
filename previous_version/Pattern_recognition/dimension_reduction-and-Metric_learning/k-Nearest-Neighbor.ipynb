{
 "cells": [
  {
   "cell_type": "markdown",
   "metadata": {},
   "source": [
    "### K近邻学习\n",
    "最近邻分类器：对于一个新样本，把它逐一与已知样本比较，找出距离新样本最近的已知样本。以这个最近样本的类别作为新样本的类别  \n",
    "$\\qquad\\qquad D=\\{(x_1,y_1),(x_2,y_2),\\cdots,(x_n,y_n)\\}\\quad$给定一个新样本x，判断这个样本的类别y：$y=\\underset{i}{argmin} \\;\\;d(x,x_i)$\n",
    "\n",
    "\n",
    "\n",
    "KNN:对于一个新样本，把它逐一与已知样本，找出距离新样本最近的K个已知样本，以这k个已知样本中类别最多的标号为新样本的类别号。  \n",
    "$\\qquad\\qquad D=\\{(x_1,y_1),(x_2,y_2),\\cdots,(x_n,y_n)\\}\\quad$给定一个新样本x，判断这个样本的类别y：，首先找到k个最近的样本 $K=d(x,x_i) \\leq z$  \n",
    "$\\qquad\\qquad y=\\underset{j=1,2,\\cdots,c}{argmin} \\;\\;k_j\\quad k_j$为k个样本中属于类别j的样本个数，总共c个类别  \n",
    "  \n",
    "![](../../img/Pattern_recognition/dr-ml/drml2.PNG)  \n",
    "  \n",
    "<br>\n",
    "\n",
    "##### 最近邻分类器性能分析  \n",
    "\n",
    "假设用KNN分类，总共c个类别的数据集：$D=\\{(x_1,y_1),(x_2,y_2),\\cdots,(x_n,y_n)\\} \\quad $一个新的测试样本x,最近样本z.  \n",
    "  \n",
    "那么新的测试样本x分错的概率是x与z的标记不同 $p(err)=1-\\sum_{c \\in y}p(c|x)p(c|z)$  \n",
    "  \n",
    "做出如下的假设：  \n",
    "1、对任意样本x,和任意小的正数$\\delta$附近有任意样本，样本主够多，，假设在x的$\\delta$距离内，我们总能找到一个训练样本z.在$\\delta$附近有任意样本，样本主够多，不至于在一个d距离内找不到一个近邻样本；；；；在样本足够多的时候 $p(c|x)\\approx p(c|z)$也就某个样本属于某类的概率是一样的。  \n",
    "\n",
    "$p(err)=1-\\sum_{c \\in y}p(c|x)p(c|z)$  \n",
    "$p(err)\\approx 1-\\sum_{c \\in y}p^2(c|x)$  \n",
    "$p(err)\\leq 1-p^2(c^*|x) \\qquad\\qquad c^*=\\underset{c\\in y}{argmax}\\;\\;p(c|x)$  \n",
    "$p(err)\\leq 2(1-p(c^*|x))$  \n",
    "\n",
    "  \n",
    "注意这个假设；是在样本足够多的情况下，能在一个d距离下找到一个近邻样本，而又近邻样本就有$ p(err)=1-\\sum_{c \\in y}p(c|x)p(c|z)$公式就可以做上述的推导。那么如果不存在上述假设，也就是样本数据不够多，那么在一个d距离下可能找不到一个近邻样本，不存在近邻样本$ p(err)=1-\\sum_{c \\in y}p(c|x)p(c|z)$公式就不存在，也就没法做上述推导。  \n",
    "  \n",
    "    \n",
    "      \n",
    " <br>  \n",
    "   \n",
    " 可以看出最近邻分类器虽然简单，但错误率不超过最优贝叶斯的2倍，也就是说如果 最优贝叶斯的错误率是0.01，那么最近邻分类器不会超过0.02;而最近邻分类器相比最优贝叶斯简单的多。 \n"
   ]
  },
  {
   "cell_type": "code",
   "execution_count": null,
   "metadata": {},
   "outputs": [],
   "source": []
  }
 ],
 "metadata": {
  "kernelspec": {
   "display_name": "Python 3",
   "language": "python",
   "name": "python3"
  },
  "language_info": {
   "codemirror_mode": {
    "name": "ipython",
    "version": 3
   },
   "file_extension": ".py",
   "mimetype": "text/x-python",
   "name": "python",
   "nbconvert_exporter": "python",
   "pygments_lexer": "ipython3",
   "version": "3.7.6"
  }
 },
 "nbformat": 4,
 "nbformat_minor": 4
}
