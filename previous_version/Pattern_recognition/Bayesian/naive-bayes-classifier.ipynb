{
 "cells": [
  {
   "cell_type": "markdown",
   "metadata": {},
   "source": [
    "### 朴素贝叶斯分类器\n",
    "贝叶斯公式：$p(c|x)=\\frac{p(x|c)p(c)}{p(x)}$  \n",
    "  \n",
    " 此时要求后验概率；p(c)，p(x)易知，但是p（x|c）确是所有属性上的联合概率（会遇到组合爆炸的问题；假如有10个属性，每个属性2值，那么样本的可能取值组合为：$2^{10}$个；也就是说要估计一种样本取值的可能概率；那么样本集的个数要远远大于$2^{10}$个才行，但是实际样本集个数远远达不到。）  \n",
    "   \n",
    " <br>\n",
    "     \n",
    "  所以为了绕开这个障碍，诞生了朴素贝叶斯分类器,朴素贝叶斯分类器采用假设\"属性条件独立\",所以有了：$p(x|c)=\\prod_{i=1}^dP(x_i|c)$;  \n",
    "    \n",
    "  而对所有类别来讲p(x)都一样；所以朴素贝叶斯采用最大后验概率为判定准则：$h_{nb}(x)=\\underset{c \\in Y}{argmax\\;\\;}p(c)\\prod_{i=1}^dP(x_i|c)$   \n",
    "    \n",
    "      \n",
    "        \n",
    "#### 训练过程  \n",
    "给定数据集$D=\\{(x_1,y_1),(x_2,y_2),\\cdots,(x_n,y_n)\\}\\qquad y \\in  {y_1,y_2,\\cdots,y_c}$   \n",
    "  \n",
    "1、估计类先验概率$P(c)=\\frac{|D^c|}{|D|}$  \n",
    "  \n",
    "2、类条件概率：$p(x|c)=\\prod_{i=1}^dP(x_i|c) \\;\\;\\qquad  而 ：P(x_i|c)=\\frac{|D_{x_i}^c|}{|D^c|}$  "
   ]
  },
  {
   "cell_type": "code",
   "execution_count": null,
   "metadata": {},
   "outputs": [],
   "source": []
  }
 ],
 "metadata": {
  "kernelspec": {
   "display_name": "Python 3",
   "language": "python",
   "name": "python3"
  },
  "language_info": {
   "codemirror_mode": {
    "name": "ipython",
    "version": 3
   },
   "file_extension": ".py",
   "mimetype": "text/x-python",
   "name": "python",
   "nbconvert_exporter": "python",
   "pygments_lexer": "ipython3",
   "version": "3.6.10"
  }
 },
 "nbformat": 4,
 "nbformat_minor": 4
}
