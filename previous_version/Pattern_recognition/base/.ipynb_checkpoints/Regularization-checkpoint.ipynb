{
 "cells": [
  {
   "cell_type": "markdown",
   "metadata": {},
   "source": [
    "### 正则化  \n",
    "\n",
    "正则化项的母的是为了应对过拟合项；模型越复杂越容易出现过拟合现象。  \n",
    "    \n",
    "#### 范数  \n",
    "  \n",
    "  p范数：$||x||_p= \\left(\\underset{i}{\\sum} |x_i|^p \\right)^{\\frac{1}{p}}$  \n",
    "    \n",
    "#### 惩罚项  \n",
    "  \n",
    " 在目标函数中，加入惩罚项是正则化的常用手段。   \n",
    "     \n",
    " <br>   \n",
    "    \n",
    "   系数过大，过拟合，模型复杂。\n",
    "![](../../img/Pattern_recognition/base/wd1.PNG)   \n",
    "  \n",
    "    \n",
    " 在目标函数中对系数加入惩罚项，防止系数过大：   \n",
    " \n",
    " $\\hat{L}(w,b)={L}(w,b) + \\lambda \\Omega(w) \\qquad\\qquad \\Rightarrow  w=\\frac{LC}{\\lambda}$  \n",
    "   \n",
    "     \n",
    " 在求最小损失的时候：可能由很多满足最小损失的系数，加入了正则化项，我们能够在所有满足最小化损失的系数中找到使模型复杂度小的系数。此时泛化能力强。    \n",
    "    \n",
    "      \n",
    "<br>  \n",
    "  \n",
    "<br>   \n",
    "  \n",
    "#### L1范数正则化项  \n",
    "$ \\underset{i}{\\sum} |w_i|$  \n",
    "  \n",
    " $\\hat{L}(w,b)={L}(w,b) + \\lambda (|w_1|+|w_2|) $   \n",
    "  \n",
    " 就是求所有特征项的系数的绝对值的和。L1范数更有利于特征选择。  \n",
    "   \n",
    " L1范数：绝对值求梯度使w正会更新会减去一个数，w为负更新会加上一个数，这样在迭代优化使，w会夹逼0,所以特征系数更有可能为0，  \n",
    "   \n",
    " $\\qquad\\;\\;\\;\\;$为0对应特征淘汰，所以L1范数利于特征选择   \n",
    "     \n",
    "<br>  \n",
    "  \n",
    "<br>  \n",
    "     \n",
    "#### L2范数正则化项    \n",
    "$ \\underset{i}{\\sum} |w_i|^2$  \n",
    "  \n",
    " $\\hat{L}(w,b)={L}(w,b) + \\lambda (w_1^2+w_2^2) $   \n",
    "  \n",
    "    \n",
    "$w_1=(1-2\\alpha\\lambda )w_1 -\\frac{\\partial L}{\\partial w_1}$   \n",
    "  \n",
    "    \n",
    "每次跌对w进行更新时，是对w进行一个比例的缩放，而不是像L1范数那样减去一个固定值，进行比例缩放只会减小，不会为0，所以L2范数只会让模型更简  \n",
    "  \n",
    "单，防止过拟合。 而不会起到特征选择作用。    "
   ]
  },
  {
   "cell_type": "code",
   "execution_count": null,
   "metadata": {},
   "outputs": [],
   "source": []
  }
 ],
 "metadata": {
  "kernelspec": {
   "display_name": "Python 3",
   "language": "python",
   "name": "python3"
  },
  "language_info": {
   "codemirror_mode": {
    "name": "ipython",
    "version": 3
   },
   "file_extension": ".py",
   "mimetype": "text/x-python",
   "name": "python",
   "nbconvert_exporter": "python",
   "pygments_lexer": "ipython3",
   "version": "3.6.10"
  }
 },
 "nbformat": 4,
 "nbformat_minor": 4
}
