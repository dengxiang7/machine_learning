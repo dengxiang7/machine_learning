{
 "cells": [
  {
   "cell_type": "markdown",
   "metadata": {},
   "source": [
    "### 期望风险\n",
    "\n",
    "期望风险：(期望损失)损失函数的期望  \n",
    "  \n",
    "  $R_{exp}(f)=E [L(y,f(x))] =\\int L(y,f(x)) p(y,f(x)) dxdy $  \n",
    "    \n",
    "      \n",
    "### 经验风险  \n",
    "模型在训练集上的平均损失  \n",
    "\n",
    "   $R_{exp}(f)= \\frac{1}{N} \\underset{i}{\\sum}  L(y^i,f(x^i))  $   \n",
    "     \n",
    "       \n",
    "### 结构风险  \n",
    "  \n",
    "  结构风险= 经验风险 + 模型复杂度  \n",
    "    \n",
    "  $R_{struc}(f)= \\frac{1}{N} \\underset{i}{\\sum}  L(y^i,f(x^i))  + \\lambda J(f)$  "
   ]
  },
  {
   "cell_type": "code",
   "execution_count": null,
   "metadata": {},
   "outputs": [],
   "source": []
  }
 ],
 "metadata": {
  "kernelspec": {
   "display_name": "Python 3",
   "language": "python",
   "name": "python3"
  },
  "language_info": {
   "codemirror_mode": {
    "name": "ipython",
    "version": 3
   },
   "file_extension": ".py",
   "mimetype": "text/x-python",
   "name": "python",
   "nbconvert_exporter": "python",
   "pygments_lexer": "ipython3",
   "version": "3.7.6"
  }
 },
 "nbformat": 4,
 "nbformat_minor": 4
}
