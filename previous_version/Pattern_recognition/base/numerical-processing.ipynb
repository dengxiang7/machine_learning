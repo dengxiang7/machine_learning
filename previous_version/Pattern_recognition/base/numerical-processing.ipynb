{
 "cells": [
  {
   "cell_type": "markdown",
   "metadata": {},
   "source": [
    "### 归一化\n",
    "归一化：把数据映射到0～1范围之内处理\n",
    "### 标准化\n",
    "标准化后数值平均变为0、标准差变为1，\n",
    "### 中心化  \n",
    "平均值为0\n",
    "### 零均值化\n",
    "https://www.jianshu.com/p/95a8f035c86c"
   ]
  },
  {
   "cell_type": "code",
   "execution_count": null,
   "metadata": {},
   "outputs": [],
   "source": []
  }
 ],
 "metadata": {
  "kernelspec": {
   "display_name": "Python 3",
   "language": "python",
   "name": "python3"
  },
  "language_info": {
   "codemirror_mode": {
    "name": "ipython",
    "version": 3
   },
   "file_extension": ".py",
   "mimetype": "text/x-python",
   "name": "python",
   "nbconvert_exporter": "python",
   "pygments_lexer": "ipython3",
   "version": "3.7.6"
  }
 },
 "nbformat": 4,
 "nbformat_minor": 4
}
