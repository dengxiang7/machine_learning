{
 "cells": [
  {
   "cell_type": "markdown",
   "metadata": {},
   "source": [
    "### 层次聚类  \n",
    "层次聚类：试图在不同层次对数据集进行划分，从而形成树形的聚类结构，数据划分策略有：自顶向下；自底向上  \n",
    "  \n",
    "#### 凝聚聚类（AGNES:AGlomerative  NESting）  \n",
    "凝聚聚类：是自底向上的层次聚类。  \n",
    "  \n",
    "* 思想：  \n",
    "    将每个样本看作一个初始聚类簇，然后在算法的每一次迭代时，找出距离最近的两个簇进行合并，该过程不断重复，直到达到最顶层的聚类簇的个数。  \n",
    "      \n",
    "<br>  \n",
    "  \n",
    "* 距离函数：  \n",
    "    在上述的思想中最关键的计算两个簇的距离  \n",
    "    \n",
    "    最小距离：$d_{min}(C_i\\;c_j)=\\underset{x\\in C_i\\;\\;z\\in C_j}{min} dist(x,z)$  \n",
    "    最大距离：$d_{max}(C_i\\;c_j)=\\underset{x\\in C_i\\;\\;z\\in C_j}{max} dist(x,z)$  \n",
    "    平均距离：$d_{avg}(C_i\\;c_j)=\\frac{1}{|C_i||C_j|}\\underset{x\\in C_i}{\\sum}\\underset{z\\in C_j}{\\sum} dist(x,z)$   \n",
    "      \n",
    "算法流程：  \n",
    "![](../../img/Pattern_recognition/clustering/AGNES.PNG)"
   ]
  },
  {
   "cell_type": "code",
   "execution_count": null,
   "metadata": {},
   "outputs": [],
   "source": []
  }
 ],
 "metadata": {
  "kernelspec": {
   "display_name": "Python 3",
   "language": "python",
   "name": "python3"
  },
  "language_info": {
   "codemirror_mode": {
    "name": "ipython",
    "version": 3
   },
   "file_extension": ".py",
   "mimetype": "text/x-python",
   "name": "python",
   "nbconvert_exporter": "python",
   "pygments_lexer": "ipython3",
   "version": "3.6.10"
  }
 },
 "nbformat": 4,
 "nbformat_minor": 4
}
