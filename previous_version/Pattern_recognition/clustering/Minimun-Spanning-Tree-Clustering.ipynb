{
 "cells": [
  {
   "cell_type": "markdown",
   "metadata": {},
   "source": [
    "## 最小生成树聚类  \n",
    "  \n",
    "  基于图的聚类  \n",
    "    \n",
    "#### 相似矩阵  \n",
    "  \n",
    "   S为度量所有数据点的相似矩阵。  \n",
    "     \n",
    "#### 最小生成树  \n",
    "  \n",
    " 连通图的生成树：包含图中全部顶点的树  \n",
    "    \n",
    " 最小生成树：在连通图的所有生成树中，所有边的权值和最小的生成树。最小生成树不唯一，但权值和唯一    \n",
    "    \n",
    "  \n",
    "有了相似矩阵，构建一个无向图。再选择Kruskal算法或者Prim算法可以生成一个最小生成树    \n",
    "  \n",
    "    \n",
    "#### 根据最小生成树去聚类  \n",
    "  \n",
    "![](../../img/Pattern_recognition/clustering/MSTClustering1.PNG)  \n",
    "  \n",
    "<br>   \n",
    "  \n",
    "对整个最小生成树中的长边进行切断即可。当对整个最小生成树中的长边都切断后，得到几个子树，就得到几个聚类簇。  \n",
    "     \n",
    "       \n",
    "<br>  \n",
    "  \n",
    "* 长边的界定：  \n",
    "  \n",
    "  计算最小生成树所有边权值的均值和标准差：我们把偏离均值超过K倍标准差的边定义为长边。  \n",
    "    \n",
    "<br>  \n",
    "  \n",
    "例如：上图 均值为：3，标准差为$\\sqrt{2}$    \n",
    "  \n",
    "$\\qquad\\qquad$当k=1时，长边为(偏离均值1倍标准差)$\\quad d > 1*\\sqrt{2}+3 \\quad$ 则5是长边  \n",
    "  \n",
    "<br>  \n",
    "\n",
    "$\\qquad\\qquad$当k=2时，长边为(偏离均值2倍标准差)$\\quad d > 2*\\sqrt{2}+3 \\quad$ 则5不是长边 "
   ]
  },
  {
   "cell_type": "code",
   "execution_count": null,
   "metadata": {},
   "outputs": [],
   "source": []
  }
 ],
 "metadata": {
  "kernelspec": {
   "display_name": "Python 3",
   "language": "python",
   "name": "python3"
  },
  "language_info": {
   "codemirror_mode": {
    "name": "ipython",
    "version": 3
   },
   "file_extension": ".py",
   "mimetype": "text/x-python",
   "name": "python",
   "nbconvert_exporter": "python",
   "pygments_lexer": "ipython3",
   "version": "3.7.6"
  }
 },
 "nbformat": 4,
 "nbformat_minor": 4
}
