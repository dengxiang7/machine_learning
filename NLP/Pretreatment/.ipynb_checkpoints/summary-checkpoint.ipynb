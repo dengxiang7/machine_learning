{
 "cells": [
  {
   "cell_type": "markdown",
   "id": "23081943",
   "metadata": {},
   "source": [
    "# NLP预处理\n",
    "自然语言通常以文本的形式存在，这方便人的理解使用。而计算机只能处理数字型数据，所以为了能使计算机读懂理解文本数据，首先需要对文件数据进行预处理，将之转换成计算机能处理的数字型数据。常用的预处理方法有：\n",
    "\n",
    "1.分词  \n",
    "2、词干还原  \n",
    "3、词形归并  \n",
    "4、处理标点符号  \n",
    "5、构建向量表  \n",
    "6、词性标注  \n",
    ".  \n",
    "."
   ]
  },
  {
   "cell_type": "code",
   "execution_count": null,
   "id": "0e3e90a3",
   "metadata": {},
   "outputs": [],
   "source": []
  }
 ],
 "metadata": {
  "kernelspec": {
   "display_name": "Python 3 (ipykernel)",
   "language": "python",
   "name": "python3"
  },
  "language_info": {
   "codemirror_mode": {
    "name": "ipython",
    "version": 3
   },
   "file_extension": ".py",
   "mimetype": "text/x-python",
   "name": "python",
   "nbconvert_exporter": "python",
   "pygments_lexer": "ipython3",
   "version": "3.9.7"
  }
 },
 "nbformat": 4,
 "nbformat_minor": 5
}
