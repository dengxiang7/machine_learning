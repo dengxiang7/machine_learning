{
 "cells": [
  {
   "cell_type": "markdown",
   "id": "90e6a6f7",
   "metadata": {},
   "source": [
    "# 词干还原\n",
    "词干还原：指的是将某个词的不同变化形式统统打包到一个类别中。  \n",
    "例如：将：ending中动词后缀ing去掉，需要有一个词干end来表示上述词。即：词干end表示不同变化词ending、end、ended、ends......  \n",
    "  \n",
    "### 词干还原存在的挑战：  \n",
    "1.如将running还原成run需要多去掉一个n；  \n",
    "2.对sing来说词干还原算法则不能去掉词的ing，而是将整个词保留，还原singing时则只能去掉一个ing；  \n",
    "3.词干还原时需要区分名词后缀的s是词本身，还是词的复数形态。（words：复数形态，bus：词本身的s）  \n",
    "等等词干还原的挑战。  \n",
    "词当中的一个个字母或者词的一部分都为整个词的意义提供了信息，同时这些字母也可能会产生误导。  \n",
    "  \n",
    "  \n",
    "### 词干还原算法的分类\n",
    "    1.传统的词干还原方法\n",
    "        利用正则表达式，对词干还原规则进行表述。\n",
    "        \n",
    "    2.基于统计聚类方法的词干还原\n",
    "        需要积累一些包含我们感兴趣的词的大量自然语言文本。从这些文本中，有关词用法的统计信息将会给出我们感兴趣词的“语义词干”（这些词干可能和我们人工划分出的词干不同。实际上是一些更有用的词聚类结果，如次元或者同义词。）。这类词干还原方法并不需要任何人工设定的正则表达式或者词干还原规则。"
   ]
  },
  {
   "cell_type": "code",
   "execution_count": null,
   "id": "c24f99f5",
   "metadata": {},
   "outputs": [],
   "source": []
  }
 ],
 "metadata": {
  "kernelspec": {
   "display_name": "Python 3 (ipykernel)",
   "language": "python",
   "name": "python3"
  },
  "language_info": {
   "codemirror_mode": {
    "name": "ipython",
    "version": 3
   },
   "file_extension": ".py",
   "mimetype": "text/x-python",
   "name": "python",
   "nbconvert_exporter": "python",
   "pygments_lexer": "ipython3",
   "version": "3.9.7"
  }
 },
 "nbformat": 4,
 "nbformat_minor": 5
}
