{
 "cells": [
  {
   "cell_type": "markdown",
   "metadata": {},
   "source": [
    "# 近似训练  \n",
    "  \n",
    "  在跳字模型中核心是根据中心词生成背景词的条件概率：  \n",
    "   $$P(w_0|w_c)=\\frac{exp(u_o^T v_c)}{\\sum_{i\\in V }\\;exp(u_i^T v_c)}$$   \n",
    "     \n",
    " 其相对损失函数为  \n",
    "   \n",
    "   $$-log P(w_0|w_c)=-(u_o^T v_c)+ log (\\sum_{i\\in V }\\;exp(u_i^T v_c))$$  \n",
    "     \n",
    "它对某个词向量求梯度为：  \n",
    "![](img/7.PNG)  \n",
    "  \n",
    "每一个词向量的梯度，都包含了词典数目项的累加。  \n",
    "  \n",
    "所以对于梯度下降法来说，每一步梯度计算都包含了词典数目大小的累加。当词典数目很大时，几十上百万时，对整个似然函数每一步求各个词向量的梯度都会造成计算开销过大。    \n",
    "  \n",
    "<br>  \n",
    "  \n",
    "为了降低计算复杂度，介绍两种近似训练方法：负采样（negative sampling）、层序（hierarchical softmax）  \n",
    "  \n",
    "<br>  \n",
    "\n",
    "\n",
    "### 负采样（negative sampling）"
   ]
  },
  {
   "cell_type": "code",
   "execution_count": null,
   "metadata": {},
   "outputs": [],
   "source": []
  }
 ],
 "metadata": {
  "kernelspec": {
   "display_name": "Python 3 (ipykernel)",
   "language": "python",
   "name": "python3"
  },
  "language_info": {
   "codemirror_mode": {
    "name": "ipython",
    "version": 3
   },
   "file_extension": ".py",
   "mimetype": "text/x-python",
   "name": "python",
   "nbconvert_exporter": "python",
   "pygments_lexer": "ipython3",
   "version": "3.9.7"
  }
 },
 "nbformat": 4,
 "nbformat_minor": 4
}
