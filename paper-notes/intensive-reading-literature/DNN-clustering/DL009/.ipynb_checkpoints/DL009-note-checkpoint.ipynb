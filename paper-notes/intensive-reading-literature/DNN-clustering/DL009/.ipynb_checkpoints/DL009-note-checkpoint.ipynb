{
 "cells": [
  {
   "cell_type": "markdown",
   "metadata": {},
   "source": [
    "### 用于聚类分析的无监督深度嵌入  \n",
    "\n",
    "<br>\n",
    "  \n",
    "  \n",
    "##### 要解决的问题       \n",
    "用神经网络同时做聚类核降维\n",
    "\n",
    "<br>\n",
    "  \n",
    "##### 使用的方法     \n",
    "感觉上应该是T-SNE的变体； 把样本的距离相似度度量映射到概率选择上(T-SNE 是做一个样本与所有样本的概率映射)，这篇文章是做样本与中心的概率映射  \n",
    "  \n",
    "1、首先降维函数 $f(\\theta)$  \n",
    "  \n",
    "2、设低维样本维z；低维的聚类中心为u    \n",
    "  \n",
    "在低维中 z 属于某个中心的概率为,其相似度采用T分布度量；就是把距离映射为概率：\n",
    "![](img/DL0091.PNG)  \n",
    "  \n",
    "另一种分布：把 \n",
    "![](img/DL0093.PNG)\n",
    "\n",
    "![](img/DL0095.PNG)\n",
    "  \n",
    "此时我们只要最小化两个分布的KL散度；就可以得到降维函数$f(\\theta)$ 和聚类中心u \n",
    "![](img/DL0092.PNG)  \n",
    "  \n",
    "连个分布图像\n",
    "![](img/DL0097.PNG) \n",
    "\n",
    "<br>\n",
    "  \n",
    "  \n",
    "##### 优化方法   \n",
    "  \n",
    "  使用随机梯度SGD,优化$f(\\theta)$ 和u\n",
    "\n",
    "<br>\n",
    "  \n",
    "  \n",
    "##### 网络结构     \n",
    "SAE网络\n",
    "  \n",
    "![](img/DL0096.PNG) \n",
    "    \n",
    "<br>\n",
    "  \n",
    "  \n",
    "###### 算法流程    \n",
    "  \n",
    " \n",
    "\n",
    "<br>\n",
    "  \n",
    "  \n",
    "##### 结论  "
   ]
  },
  {
   "cell_type": "code",
   "execution_count": null,
   "metadata": {},
   "outputs": [],
   "source": []
  }
 ],
 "metadata": {
  "kernelspec": {
   "display_name": "Python 3",
   "language": "python",
   "name": "python3"
  },
  "language_info": {
   "codemirror_mode": {
    "name": "ipython",
    "version": 3
   },
   "file_extension": ".py",
   "mimetype": "text/x-python",
   "name": "python",
   "nbconvert_exporter": "python",
   "pygments_lexer": "ipython3",
   "version": "3.6.10"
  }
 },
 "nbformat": 4,
 "nbformat_minor": 4
}
