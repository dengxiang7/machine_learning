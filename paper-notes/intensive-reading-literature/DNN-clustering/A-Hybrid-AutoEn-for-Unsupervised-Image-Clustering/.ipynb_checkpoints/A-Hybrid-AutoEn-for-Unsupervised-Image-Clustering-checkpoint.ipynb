{
 "cells": [
  {
   "cell_type": "markdown",
   "metadata": {},
   "source": [
    "# 一个用于无监督图像聚类的混合自编码器  \n",
    "  \n",
    "## 摘要  \n",
    "  \n",
    "  每个自编码器提取特征都有其自己的优势和特长。本文结合三个自编码器模型试图结合他们在提取特征方面的特长。用来完成图片聚类任务。  \n",
    "    \n",
    " 这三个自编码器为：the convolutional autoencoder (CAE), adversarial autoencoder (AAE), and stacked autoencoder (SAE)  \n",
    "   \n",
    " 这三个自编码器混合形成一个用于图片聚类的BAE(编码器)   \n",
    "   \n",
    "## 简介  \n",
    "  \n",
    "  数据挖掘（Data mining DM)是发现关键知识，它是机器学习领域中重要一个方面。  \n",
    "    \n",
    " 没有一种模型或技术能够在所有情况下都比其他模型表现得更好。每个模型都有其对于特殊任务的专长。模型的好坏取决于设计初衷的目的。  \n",
    "   \n",
    "  本文设计一个用于图片聚类的混合自编码器模型，取名为BAE。它结合了三种自编码器的优势分别为：CAE,AAE,SAE。BAE用于学习低维和高水平的特征。  \n",
    "    \n",
    "  \n",
    "## 用于聚类的基础自编码器  \n",
    "  \n",
    " ![](img/1.PNG)\n",
    " ![](img/2.PNG)\n",
    " ![](img/3.PNG) \n",
    "   \n",
    "**当我们任务目标是图片聚类时：**   \n",
    " * 提取图片特征和降噪方面CAE编码器更有优势。 其特征为：   \n",
    "    1、CAE能更好的捕捉图片的空间信息特征。  \n",
    "    2、CAE能够保存数据的局部结构。  \n",
    "    3、CAE能避免特征空间的变形。\n",
    "    \n",
    "  <br>\n",
    "  \n",
    "* AAE的特征：  \n",
    "    1、他是一个概率自编码器。  \n",
    "    2、**AAE的变分推断胜过VAE。它通过匹配编码向量Z的聚合分布与一个任意先验分布**  \n",
    "    3、\n",
    " \n",
    "<br>  \n",
    "\n",
    "## 混合自编码器（BAE）  \n",
    "  \n",
    "  首先训练CAE、AAE提取图片特征，然后连接这两个特征作用于堆叠自编码器SAE去获得用于图片聚类的高水平特征。  \n",
    "    \n",
    "  网络结构：  \n",
    "![](img/4.PNG)  \n",
    "  \n",
    "在获得AAE,CAE的特征之后，把他俩联合作为SAE的输入。即$X=[X_1,X_2]$ 。  \n",
    "  \n",
    "<br>  \n",
    "\n",
    "聚类项：BAE里的聚类项就是常规的聚类算法。  \n",
    "  \n",
    "BAE自编码器这个聚类模型：属于深度聚类算法中的第一类，即特征提取和聚类相互独立。"
   ]
  },
  {
   "cell_type": "code",
   "execution_count": null,
   "metadata": {},
   "outputs": [],
   "source": []
  }
 ],
 "metadata": {
  "kernelspec": {
   "display_name": "Python 3",
   "language": "python",
   "name": "python3"
  },
  "language_info": {
   "codemirror_mode": {
    "name": "ipython",
    "version": 3
   },
   "file_extension": ".py",
   "mimetype": "text/x-python",
   "name": "python",
   "nbconvert_exporter": "python",
   "pygments_lexer": "ipython3",
   "version": "3.7.6"
  }
 },
 "nbformat": 4,
 "nbformat_minor": 4
}
