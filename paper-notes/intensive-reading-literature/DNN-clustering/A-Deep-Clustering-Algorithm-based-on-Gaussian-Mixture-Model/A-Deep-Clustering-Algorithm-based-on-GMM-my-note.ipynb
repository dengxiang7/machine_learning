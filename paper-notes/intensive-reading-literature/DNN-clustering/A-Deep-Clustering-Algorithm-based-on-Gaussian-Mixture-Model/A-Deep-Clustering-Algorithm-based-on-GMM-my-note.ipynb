{
 "cells": [
  {
   "cell_type": "markdown",
   "metadata": {},
   "source": [
    "# 基于高斯混合模型的深度聚类算法  \n",
    "  \n",
    "算法思想：**用堆叠式自编码器（SAE）来提取特征，之后把提取的特征作为高斯混合模型（GMM）的输入。**   \n",
    " \n",
    "![](img/1.PNG)   \n",
    "\n",
    "算法流程：  \n",
    "\n",
    "![](img/2.PNG)   "
   ]
  },
  {
   "cell_type": "code",
   "execution_count": null,
   "metadata": {},
   "outputs": [],
   "source": []
  }
 ],
 "metadata": {
  "kernelspec": {
   "display_name": "Python 3",
   "language": "python",
   "name": "python3"
  },
  "language_info": {
   "codemirror_mode": {
    "name": "ipython",
    "version": 3
   },
   "file_extension": ".py",
   "mimetype": "text/x-python",
   "name": "python",
   "nbconvert_exporter": "python",
   "pygments_lexer": "ipython3",
   "version": "3.7.6"
  }
 },
 "nbformat": 4,
 "nbformat_minor": 4
}
