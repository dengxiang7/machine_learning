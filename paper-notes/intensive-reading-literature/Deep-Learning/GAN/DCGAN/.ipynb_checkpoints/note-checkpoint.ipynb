{
 "cells": [
  {
   "cell_type": "markdown",
   "metadata": {},
   "source": [
    "### 深度卷积GAN（DCGAN）  \n",
    "\n",
    "在本文中，作者做出了以下贡献：  \n",
    "  \n",
    "1、我们提出并评估了卷积 GAN 的体系结构拓扑上的一组约束，这些约束使它们在大多数情况下都能稳定地进行训练。我们将这类架构命名为Deep Convolutional GANs (DCGAN)  \n",
    "  \n",
    "2、我们使用训练过的识别器进行图像分类任务，显示出与其他无监督算法的竞争性能  \n",
    "  \n",
    "3、我们将GANs学习到的过滤器可视化，并通过经验表明，特定的过滤器已经学会绘制特定的对象  \n",
    "    \n",
    "      \n",
    "4、我们展示了生成器具有有趣的向量算术属性，可以方便地操作生成的示例的许多语义质量      \n",
    "  \n",
    "    \n",
    "### 相关工作  \n",
    "  \n",
    "* 从未标记数据中学习特征    \n",
    "  \n",
    "* 生成自然图像  \n",
    "  \n",
    "* 可视化CNNS的内部结构    \n",
    "  \n",
    "    \n",
    "### 方法和模型结构  \n",
    "  \n",
    "  稳定的深卷积GANs的架构指南： \n",
    "    \n",
    "1、用strided convolutions (discriminator)和fractionstrided convolutions (generator)替换掉所有池化层   \n",
    "  \n",
    "2、在生成器和鉴别器中使用batchnorm（批标准化）    \n",
    "  \n",
    "3、为更深层的架构移除完全连接的隐藏层  \n",
    "  \n",
    "4、除使用Tanh的输出外，在生成器中对所有层使用ReLU激活   \n",
    "  \n",
    "5、在鉴别器中对所有层使用LeakyReLU激活  \n",
    "  \n",
    "    \n",
    "### 对抗性训练的细节    \n",
    "  \n",
    "1、LSUN  \n",
    "   \n",
    "2、DEDUPLICATION   "
   ]
  },
  {
   "cell_type": "code",
   "execution_count": null,
   "metadata": {},
   "outputs": [],
   "source": []
  }
 ],
 "metadata": {
  "kernelspec": {
   "display_name": "Python 3",
   "language": "python",
   "name": "python3"
  },
  "language_info": {
   "codemirror_mode": {
    "name": "ipython",
    "version": 3
   },
   "file_extension": ".py",
   "mimetype": "text/x-python",
   "name": "python",
   "nbconvert_exporter": "python",
   "pygments_lexer": "ipython3",
   "version": "3.7.6"
  }
 },
 "nbformat": 4,
 "nbformat_minor": 4
}
