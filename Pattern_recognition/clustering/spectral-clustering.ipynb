{
 "cells": [
  {
   "cell_type": "markdown",
   "metadata": {},
   "source": [
    "### 谱聚类  \n",
    "\n",
    "原文：https://www.cnblogs.com/pinard/p/6221564.html\n",
    "\n",
    "![](../../img/Pattern_recognition/clustering/spectral-clustering1.PNG)"
   ]
  },
  {
   "cell_type": "markdown",
   "metadata": {},
   "source": [
    "## 关于最后进行谱聚类的理解  \n",
    "\n",
    " 集成聚类；谱聚类方法，（得到的部分的指示向量H）将其转化为加权的K-means问题，并将两种集成聚类方法联系起来。（样本带有属于某个聚类的权重，把样本属于某个聚类的指示向量，作为传统聚类的输入样本，进行k-means 聚类，（集成聚类））"
   ]
  },
  {
   "cell_type": "code",
   "execution_count": null,
   "metadata": {},
   "outputs": [],
   "source": []
  }
 ],
 "metadata": {
  "kernelspec": {
   "display_name": "Python 3",
   "language": "python",
   "name": "python3"
  },
  "language_info": {
   "codemirror_mode": {
    "name": "ipython",
    "version": 3
   },
   "file_extension": ".py",
   "mimetype": "text/x-python",
   "name": "python",
   "nbconvert_exporter": "python",
   "pygments_lexer": "ipython3",
   "version": "3.7.6"
  }
 },
 "nbformat": 4,
 "nbformat_minor": 4
}
