{
 "cells": [
  {
   "cell_type": "markdown",
   "metadata": {},
   "source": [
    "### 谱聚类  \n",
    "\n",
    "原文：https://www.cnblogs.com/pinard/p/6221564.html\n",
    "\n",
    "![](../../img/Pattern_recognition/clustering/spectral-clustering1.PNG)"
   ]
  },
  {
   "cell_type": "markdown",
   "metadata": {},
   "source": [
    "## 关于最后进行谱聚类的理解  \n",
    "\n",
    " 集成聚类；谱聚类方法，（得到的部分的指示向量H）将其转化为加权的K-means问题，并将两种集成聚类方法联系起来。（样本带有属于某个聚类的权重，把样本属于某个聚类的指示向量，作为传统聚类的输入样本，进行k-means 聚类，（集成聚类））"
   ]
  },
  {
   "cell_type": "markdown",
   "metadata": {},
   "source": [
    "<br>  \n",
    "\n",
    "<br>  \n",
    "\n",
    "<br>"
   ]
  },
  {
   "cell_type": "markdown",
   "metadata": {},
   "source": [
    "#### 一致性图  （ Consensus Graph）\n",
    "\n",
    "给定来自K个真实类别的N个样本，$C=\\{c_1,c_2,……，c_k\\} \\quad X=\\{x_1,x_2,……，x_N\\}\\quad$ 产生了M个基本分区（BPS），$\\prod=\\{\\pi_1,\\pi_2,……，\\pi_m\\}$  \n",
    "每个基本分区通过运行现有的聚类算法获得。获得标签集合$\\prod_r=\\{\\pi_r(x_1),\\pi_r(x_2),……，\\pi_r(x_N)\\} \\quad$(这里一个基本分区：指的是一个聚类算法对所有样本的一个可能划分。)$\\quad 1<r<M\\quad 1<\\pi_r(x_i)<K_r,\\quad 1<i<N \\quad$(这里$K_r$是第r个基本分区的聚类类别的个数)  \n",
    "  \n",
    "* 聚类集成（Ensemble clustering  -EC)  \n",
    "  \n",
    "  在基本分区（BPs）的类别信息上，产生关联矩阵（ co-association matrix），在关联矩阵上使用基于图的方法来做分割块。  \n",
    "  \n",
    "  <br>\n",
    "    \n",
    "* 关联矩阵的定义($S\\in R^{N \\times N}$)：    \n",
    "  \n",
    "  $$S_{ij}=\\frac{1}{M}\\sum_{r=1}^M \\delta(\\pi_r(x_i),\\pi_r(x_j)) $$  \n",
    "    \n",
    "  其中$\\delta(\\pi_r(x_i),\\pi_r(x_j)$表示如果样本$x_i,x_j$在基本分区r中属于同一类别值为1，否则值为0  ；  \n",
    "    \n",
    "   $S_{ij}$表示样本$x_i,x_j$在M个基本分区中属于同一个类别的均值。 （矩阵S也可以叫做样本对的亲和力矩阵：**代表了两个样本分配到同一个聚类簇的可能性**）\n",
    "  "
   ]
  },
  {
   "cell_type": "code",
   "execution_count": null,
   "metadata": {},
   "outputs": [],
   "source": []
  }
 ],
 "metadata": {
  "kernelspec": {
   "display_name": "Python 3",
   "language": "python",
   "name": "python3"
  },
  "language_info": {
   "codemirror_mode": {
    "name": "ipython",
    "version": 3
   },
   "file_extension": ".py",
   "mimetype": "text/x-python",
   "name": "python",
   "nbconvert_exporter": "python",
   "pygments_lexer": "ipython3",
   "version": "3.7.6"
  }
 },
 "nbformat": 4,
 "nbformat_minor": 4
}
