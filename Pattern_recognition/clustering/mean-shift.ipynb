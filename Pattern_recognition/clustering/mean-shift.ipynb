{
 "cells": [
  {
   "cell_type": "markdown",
   "metadata": {},
   "source": [
    "## 均值偏移聚类    \n",
    "  \n",
    "原文：   \n",
    "https://www.cnblogs.com/liqizhou/archive/2012/05/12/2497220.html  \n",
    "  \n",
    "https://blog.csdn.net/hjimce/article/details/45718593  \n",
    "  \n",
    "<br>  \n",
    "  \n",
    "![](../../img/Pattern_recognition/clustering/Meanshift1.PNG)    \n",
    "  \n",
    "<br>  \n",
    "  \n",
    "## 聚类流程  \n",
    "  \n",
    "![](../../img/Pattern_recognition/clustering/Meanshift2.PNG)  "
   ]
  },
  {
   "cell_type": "code",
   "execution_count": null,
   "metadata": {},
   "outputs": [],
   "source": []
  }
 ],
 "metadata": {
  "kernelspec": {
   "display_name": "Python 3",
   "language": "python",
   "name": "python3"
  },
  "language_info": {
   "codemirror_mode": {
    "name": "ipython",
    "version": 3
   },
   "file_extension": ".py",
   "mimetype": "text/x-python",
   "name": "python",
   "nbconvert_exporter": "python",
   "pygments_lexer": "ipython3",
   "version": "3.7.6"
  }
 },
 "nbformat": 4,
 "nbformat_minor": 4
}
