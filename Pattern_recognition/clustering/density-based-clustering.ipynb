{
 "cells": [
  {
   "cell_type": "markdown",
   "metadata": {},
   "source": [
    "\n",
    "### 密度聚类\n",
    "假设聚类结构能够通过样本分布的紧密程度确定。  \n",
    "  \n",
    "    \n",
    "#### DBSCAN 算法\n",
    "样本集$D=\\{x_1,x_2,\\cdots,x_n\\}$  \n",
    "  \n",
    "$\\epsilon - 领域：$包含与样本x距离小于$\\epsilon$的样本即：$N_\\epsilon(x_j)=\\{x_i \\in D |dist(x_i.x_j)\\leq \\epsilon\\}$  \n",
    "  \n",
    "    \n",
    "核心对象：若一个样本的$\\epsilon - 领域$至少包含Minpts个样本，那么这个样本就是一个狠心对象。  \n",
    "  \n",
    "    \n",
    "密度直达：若$x_j$位于$x_i$的$\\epsilon - 领域$内，且$x_i$是核心对象，那么$x_j$由$x_i$密度直达。  \n",
    "  \n",
    "    \n",
    "密度可达：若$x_j，p_1,p_2,\\cdots,p_n,x_i$,序列相邻两个样本都是密度直达，那么$x_j$由$x_i$密度可达。  \n",
    "  \n",
    "    \n",
    "密度相连: 若$x_j$与$x_i$之间存在$x_k$,$\\;\\;x_j$与$x_i$由$x_k$密度可达，那么$x_k$,$x_j$密度相连.  \n",
    "  \n",
    "    \n",
    " <br>\n",
    " <br>\n",
    "簇定义：由密度可达求出的最大密度相连的样本集合。  \n",
    "$$连接性：x_i\\in C，x_j\\in C \\Rightarrow x_i 与x_j密度相连$$\n",
    "$$最大性：x_i\\in C，x_j由x_i密度可达  \\Rightarrow x_j\\in C$$  \n",
    "  \n",
    "形成的簇C中两两样本最少是密度相连，边界至少密度可达。  \n",
    "  \n",
    "    \n",
    "<br>\n",
    "可以看出由一个核心对象的所有密度可达样本的集合就是一个最大簇。  \n",
    "  \n",
    "  算法结构周老师213：\n",
    "  ![](../../img/Pattern_recognition/clustering/DBSCAN.PNG)  \n",
    "    \n",
    "      \n",
    "1、首先遍历样本集选出所有核心对象  \n",
    "2、遍历所有核心对象，每求出一个核心对象的所有簇样本，则在原样本集中删除这个簇样本集样本。并从核心对象集中删除这个核心对象（避免两个核心对象在一个簇中，重复生成簇）\n"
   ]
  },
  {
   "cell_type": "code",
   "execution_count": null,
   "metadata": {},
   "outputs": [],
   "source": []
  }
 ],
 "metadata": {
  "kernelspec": {
   "display_name": "Python 3",
   "language": "python",
   "name": "python3"
  },
  "language_info": {
   "codemirror_mode": {
    "name": "ipython",
    "version": 3
   },
   "file_extension": ".py",
   "mimetype": "text/x-python",
   "name": "python",
   "nbconvert_exporter": "python",
   "pygments_lexer": "ipython3",
   "version": "3.6.10"
  }
 },
 "nbformat": 4,
 "nbformat_minor": 4
}
