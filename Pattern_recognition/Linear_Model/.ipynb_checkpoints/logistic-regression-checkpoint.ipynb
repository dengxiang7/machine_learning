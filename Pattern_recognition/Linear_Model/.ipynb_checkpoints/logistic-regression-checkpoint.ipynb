{
 "cells": [
  {
   "cell_type": "markdown",
   "metadata": {},
   "source": [
    "## logistic回归\n",
    "线性回归进行的是连续的预测，现在要进行分类任务该如何做？  \n",
    "一般想法是把大于多少的归为一类，小于多少的归为一类：$y=W{\\bf X}=\\begin{cases} 0 & \\text {$z<0$}  \\\\0.5 & \\text{$z=0$}  \\\\1 & \\text{$z>0$}\\end{cases}$  \n",
    "但是现在我们考虑一下这个式子，如果用这个越阶函数做预测函数，我们接下求损失函数的最优解$ (W^*)={\\underset{(W)} {arg\\,min}}{\\sum_{i=1}^n}(f(X^i)-y^i)^2$由于是越阶函数这个式子是不可导的，就不容易求其最小值$W^*$。  \n",
    "\n",
    "那么现在我们很自然就能想到如果有一个连续的函数其形状非常相似这个越阶函数，就自然可以求导解出最优解了：事实有这样一个函数  \n",
    "  \n",
    "Sigmoid函数：<img src=\"../../img/sigmoid.png\" width=\"300\" height=\"300\">\n",
    "  \n",
    "所以有了Sigmoid函数后我们想如果预测的值在这个函数上变化就可以求导从而求最优解了，那么现在可以用到上次的广义线性模型了把真实值与   \n",
    "\n",
    "Sigmoid值一一映射则有：$y=\\frac {1}{1+e^{-(WX)}}$  \n",
    "  \n",
    "现在求解最小损失：$ (W^*)={\\underset{(W)} {arg\\,min}}{\\sum_{i=1}^n}(\\frac {1}{1+e^{-(wx^i)}}-y^i)^2$  \n",
    "  \n",
    "可以证明此函数是非凸函数：待证明  \n",
    "  \n",
    "既然此函数是非凸的，要求其最优的解析解 和 数值解 都没法用一些现有的工具来求其最优解。  \n",
    "  \n",
    "$\\color{red}{\\bf 所以现在要重新考虑目标函数怎样才能使之后的损失函数变为可凸函数：} $ \n",
    "  \n",
    "观察目标函数$ y=\\frac {1}{1+e^{-(WX)}}\\quad$和sigmod函数图，输入为样本之后输出$y$范围为（0-1），所以可以将输出y视为后验概率(输入样本输出样本的后验概率)$\\quad \\require{AMScd}$$目标函数：\\begin{CD} y=\\frac {1}{1+e^{-(WX)}} @>>> ln\\frac{y}{1-y}=WX\\end{CD}$  \n",
    "  \n",
    "将$y和1-y视为$$ p(y=1|x)正类后验概率p(y=1|x)负类后验概率$ ：则$WX$预测的值的现实意义变为正类概率除错误概率的对数，而不是其真实值 \n",
    "  \n",
    "则目标函数变为概率预测：$\\;\\; p(y=1|x)=\\frac {e^{(WX)}}{1+e^{(WX)}} \\qquad p(y=0|x)=\\frac {1}{1+e^{(WX)}} \\qquad ln\\frac{p(y=1|x)}{p(y=0|x)}=WX$  \n",
    "  \n",
    "既然预测是概率值则所求的不再是损失函数，而是能正确分类的参数估计：使用极大似然法求正确分类的概率参数  \n",
    "  \n",
    "求极大似然函数：$\\quad ln\\prod_{i=1}^n p(y^i|x^i)\\quad =\\quad \\sum_{i=1}^n ln p(y^i|x^i)$  \n",
    "\n",
    "求最大正确概率参数：$\\underset{W}{arg\\,max}\\sum_{i=1}^n y^i ln p(y^i=1|x^i)+(1-y^i)ln p(y^i=0|x^i) $  \n",
    "  \n",
    "  $\\qquad \\quad\\qquad \\qquad\\underset{W}{arg\\,max}\\sum_{i=1}^n y^i ln p(y^i=1|x^i)+ln p(y^i=0|x^i) -y^iln p(y^i=0|x^i)$  \n",
    "    \n",
    "  $\\qquad \\quad\\qquad \\qquad\\underset{W}{arg\\,max}\\sum_{i=1}^n y^iln\\frac{ p(y^i=1|x^i)}{p(y^i=0|x^i)} +ln p(y^i=0|x^i) $  \n",
    "    \n",
    "  $\\qquad \\quad\\qquad \\qquad\\underset{W}{arg\\,max}\\sum_{i=1}^n y^ilnwx^i +ln p(y^i=0|x^i) $   \n",
    "    \n",
    "  $\\qquad \\quad\\qquad \\qquad\\underset{W}{arg\\,max}\\sum_{i=1}^n y^iwx^i +ln p(y^i=0|x^i) $ \n",
    "    \n",
    "  $\\qquad \\quad\\qquad \\qquad\\underset{W}{arg\\,max}\\sum_{i=1}^n y^iwx^i -ln (1+e^{wx^i}) $  \n",
    "    \n",
    "  $\\qquad \\quad\\qquad \\qquad\\underset{W}{arg\\,min}\\sum_{i=1}^n -y^iwx^i +ln (1+e^{wx^i}) $  \n",
    "    \n",
    "  $\\qquad \\quad\\qquad \\qquad\\underset{W}{arg\\,min} -YWX +ln (1+e^{WX}) \\quad 令为E（W）$  \n",
    "    \n",
    "  此式是凸函数可以用现有工具求最优解：  \n",
    "    \n",
    "  $\\qquad \\quad\\qquad \\qquad \\frac {\\partial E（W）}{\\partial W} = (-Y+ \\frac {e^{WX}}{1+e^{WX}})X \\qquad $  此式的解析解表示不出来所以用选用梯度下降法求数值解  \n",
    "    \n",
    "   $\\qquad \\quad\\qquad \\qquad W^{t+1}=W^{t}-\\eta(-Y+ \\frac {e^{WX}}{1+e^{WX}})X^T \\qquad $\n"
   ]
  },
  {
   "cell_type": "code",
   "execution_count": 144,
   "metadata": {},
   "outputs": [
    {
     "name": "stderr",
     "output_type": "stream",
     "text": [
      "d:\\miniconda\\mnconda\\envs\\gluon\\lib\\site-packages\\ipykernel_launcher.py:74: RuntimeWarning: overflow encountered in exp\n",
      "d:\\miniconda\\mnconda\\envs\\gluon\\lib\\site-packages\\ipykernel_launcher.py:75: RuntimeWarning: overflow encountered in exp\n",
      "d:\\miniconda\\mnconda\\envs\\gluon\\lib\\site-packages\\ipykernel_launcher.py:42: RuntimeWarning: overflow encountered in exp\n"
     ]
    },
    {
     "name": "stdout",
     "output_type": "stream",
     "text": [
      "准确率\n",
      "0.9990543735224586\n"
     ]
    },
    {
     "data": {
      "image/png": "[encoded data removed]",
      "text/plain": [
       "<Figure size 864x864 with 10 Axes>"
      ]
     },
     "metadata": {
      "needs_background": "light"
     },
     "output_type": "display_data"
    }
   ],
   "source": [
    "#实例识别图片中0和1\n",
    "%matplotlib inline\n",
    "import d2lzh as d2l\n",
    "from mxnet.gluon import data as gdata\n",
    "import numpy as np\n",
    "import struct   #处理数据流\n",
    "import sys\n",
    "sys.path.append(\"..\")\n",
    "from matplotlib import pyplot as plt\n",
    "import time\n",
    "import tools.readimg as tl\n",
    "import bigfloat \n",
    "\n",
    "\n",
    "#生成训练数据和测试数据\n",
    "f_train=\"../../img/train-images.idx3-ubyte\"\n",
    "ff_train=\"../../img/train-labels.idx1-ubyte\"\n",
    "f_test=\"../../img/t10k-images.idx3-ubyte\"\n",
    "ff_test=\"../../img/t10k-labels.idx1-ubyte\"\n",
    "imgs_train,labs_train=tl.take01img(f_train,ff_train)\n",
    "imgs_test,labs_test=tl.take01img(f_test,ff_test)\n",
    "\n",
    "\n",
    "#图片转为样本矩阵\n",
    "#aa=np.array(imgs_train)\n",
    "#a1=aa.shape[0]  a2=aa.shape[1]\n",
    "def tranexample(imgs_train):\n",
    "    Tr_x=[]    \n",
    "    for i in imgs_train:\n",
    "        Tr_x.append(((np.row_stack(( i.reshape(784,1),1))).reshape(1,785))[0])\n",
    "    return Tr_x\n",
    "#print((np.array(Tr_x)).shape)  \n",
    "Tr_x=tranexample(imgs_train)\n",
    "\n",
    "\n",
    "#预测函数：\n",
    "def predict(W,img_test,lab_test):\n",
    "   \n",
    "   \n",
    "    img_test=(np.array(img_test)).reshape((np.array(img_test).shape[0],1))\n",
    "    \n",
    "    y=1/(1+np.nan_to_num(np.exp(-(np.dot(W,img_test)))))\n",
    "    #print((y[0])[0])\n",
    "    if (y[0])[0] > 0.5:\n",
    "        return 1\n",
    "    if (y[0])[0] <=0.5:\n",
    "        return 0\n",
    "\n",
    "#准确率\n",
    "def accure(W,img_test,lab_test):\n",
    "    pre_lab=[]\n",
    "    num=0\n",
    "    a=0\n",
    "    b=0\n",
    "    for  i in range(len(lab_test)):\n",
    "        j=predict(W,img_test[:,i],lab_test[i])\n",
    "        pre_lab.append(j)\n",
    "        if j==1:\n",
    "            a+=1\n",
    "        if j==0:\n",
    "            b+=1\n",
    "        if j == lab_test[i] :\n",
    "            num+=1\n",
    "    \n",
    "    return num/len(lab_test) ,pre_lab\n",
    "    \n",
    "#初始化参数\n",
    "W=np.random.normal(scale=1,size=(1,785))\n",
    "\n",
    "\n",
    "#定义训练算法\n",
    "def train(W,X,Y,eta,ecoh):\n",
    "    for i in range(ecoh):\n",
    "        a=np.exp(np.dot(W,X))\n",
    "        b=1+np.exp(np.dot(W,X))\n",
    "        c=np.nan_to_num(a)\n",
    "        d=np.nan_to_num(b)\n",
    "        e=np.nan_to_num(c/d)\n",
    "        W=W-eta*np.dot( (-Y+e),X.T) \n",
    "    return W\n",
    "\n",
    "#开始训练\n",
    "eta=0.0001\n",
    "ecoh=1000\n",
    "labs_train1=np.array(labs_train)\n",
    "Tr_x1=np.array(Tr_x)\n",
    "#labs_train1=labs_train1.reshape(labs_train1.shape[0],1)\n",
    "W1=train(W,Tr_x1.T,labs_train1,eta,ecoh)\n",
    "\n",
    "imgs_test1=np.array(tranexample(imgs_test))\n",
    "preaccure,prelab=accure(W1,imgs_test1.T,labs_test)\n",
    "print('准确率')\n",
    "print(preaccure)\n",
    "tl.showimg(imgs_test,prelab)\n"
   ]
  },
  {
   "cell_type": "code",
   "execution_count": 121,
   "metadata": {},
   "outputs": [
    {
     "name": "stdout",
     "output_type": "stream",
     "text": [
      "\n"
     ]
    }
   ],
   "source": [
    "#help(np.random.normal)\n",
    "#W=np.random.normal(scale=1,size=(784,1))\n",
    "#help(np.linalg)\n",
    "print()"
   ]
  },
  {
   "cell_type": "code",
   "execution_count": 72,
   "metadata": {},
   "outputs": [
    {
     "name": "stdout",
     "output_type": "stream",
     "text": [
      "[[ 0.92307692 -0.23076923]\n",
      " [-0.23076923  0.30769231]]\n"
     ]
    }
   ],
   "source": [
    "a=[[4/3,1],[1,4]]\n",
    "print(np.linalg.inv(a))"
   ]
  },
  {
   "cell_type": "code",
   "execution_count": null,
   "metadata": {},
   "outputs": [],
   "source": []
  }
 ],
 "metadata": {
  "kernelspec": {
   "display_name": "Python 3",
   "language": "python",
   "name": "python3"
  },
  "language_info": {
   "codemirror_mode": {
    "name": "ipython",
    "version": 3
   },
   "file_extension": ".py",
   "mimetype": "text/x-python",
   "name": "python",
   "nbconvert_exporter": "python",
   "pygments_lexer": "ipython3",
   "version": "3.6.10"
  }
 },
 "nbformat": 4,
 "nbformat_minor": 4
}
