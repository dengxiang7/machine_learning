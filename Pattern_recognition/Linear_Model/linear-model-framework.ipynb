{
 "cells": [
  {
   "cell_type": "markdown",
   "metadata": {},
   "source": [
    "## 综述：线性模型  \n",
    "###  什么是线性模型\n",
    "   线性模型：线性模型就是训练完成后的模型（一般就是预测函数）是一个线性的函数，其未知数就是样本的特征（也就是函数的变量），其中我们训练模型超参数（一般就是系数和一个参数）使这个模型对所有输入样本都能输出其正确的真实世界的值。\n",
    "$$ f(x_1,x_2,{\\cdots} ,x_n)= a_1x_1+a_2x_2+{\\cdots}+a_nx_n+b$$\n",
    "这里就是线性模型的一般式了，x使样本的特征，a，b就是待估计的值。\n",
    "#### 线性的类别\n",
    "由于真实世界的样本的x特征和y标签的值有可能是连续的也有可能是离散的（颜色的种类是离散的，空气的湿度是连续的），所以根据y的值是离散的还是连续的线性模型分为分类任务和回归任务。（一般离散属性连续化，使用回归模型处理。）\n",
    "#### 线性模型的一般框架\n",
    "![线性模型](../../img/linear-flow-img.png)  \n",
    "  \n",
    "<br>\n",
    "\n",
    "判别函数：就是模型函数  \n",
    "<br>\n",
    "\n",
    "优化准则：就是要选择什么优化方向(如：最小风险，最小误差)  \n",
    "综合这两个方面设计优化算法\n"
   ]
  },
  {
   "cell_type": "code",
   "execution_count": null,
   "metadata": {},
   "outputs": [],
   "source": []
  }
 ],
 "metadata": {
  "kernelspec": {
   "display_name": "Python 3",
   "language": "python",
   "name": "python3"
  },
  "language_info": {
   "codemirror_mode": {
    "name": "ipython",
    "version": 3
   },
   "file_extension": ".py",
   "mimetype": "text/x-python",
   "name": "python",
   "nbconvert_exporter": "python",
   "pygments_lexer": "ipython3",
   "version": "3.6.10"
  }
 },
 "nbformat": 4,
 "nbformat_minor": 4
}
