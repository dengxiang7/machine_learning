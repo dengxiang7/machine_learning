{
 "cells": [
  {
   "cell_type": "markdown",
   "metadata": {},
   "source": [
    "### softmax回归\n",
    "logstic回归是用线性回归处理二分类的回归任务，那如果用线性回归处理多分类的任务呢？这时使用softmax回归。  \n",
    "\n",
    "###  思路\n",
    "  \n",
    "**1.** 观看二分类任务的logstic回归  \n",
    "\n",
    "Sigmoid函数：<img src=\"../../img/sigmoid.png\" width=\"300\" height=\"300\">  \n",
    "在二分类任务时，我们处理单个样本时是把>0.5的处理成1类，<=0.5处理成二类；其从后验概率的角度看是样本为1的后验概率大于0.5则认为样本为1类，否则是样本为1类的后验概率小于0.5，认为其不大可能是1类，则归为2类。  \n",
    "  \n",
    "**2.** 现在我们把其推广到多分类任务[1,2,...,k]时，我们再来看Sigmoid的函数，我们处理单个样本时是把>0.5的处理成i类，<=0.5则认为不是第i类；其从后验概率的角度看是样本为1的后验概率大于0.5则认为样本为i类，否则是样本为i类的后验概率小于0.5，认为其不大可能是i类，则归为其他类。\n"
   ]
  },
  {
   "cell_type": "code",
   "execution_count": null,
   "metadata": {},
   "outputs": [],
   "source": []
  }
 ],
 "metadata": {
  "kernelspec": {
   "display_name": "Python 3",
   "language": "python",
   "name": "python3"
  },
  "language_info": {
   "codemirror_mode": {
    "name": "ipython",
    "version": 3
   },
   "file_extension": ".py",
   "mimetype": "text/x-python",
   "name": "python",
   "nbconvert_exporter": "python",
   "pygments_lexer": "ipython3",
   "version": "3.6.10"
  }
 },
 "nbformat": 4,
 "nbformat_minor": 4
}
