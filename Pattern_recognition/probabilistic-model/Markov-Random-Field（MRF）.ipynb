{
 "cells": [
  {
   "cell_type": "markdown",
   "metadata": {},
   "source": [
    "### 马尔可夫随机场（MRF）\n",
    "是一个无向图模型，图中每一个节点表示一个或者一组变量，节点之间的边表示两个变量之间的依赖关系。  \n",
    "\n",
    "![](../../img/Pattern_recognition/proba_model/pro10.PNG)  \n",
    "  \n",
    "    \n",
    "团：集合中任意两个点都有边，就称为团$\\{x_5,x_6\\}$  \n",
    "\n",
    "极大团：集合中任意两个点都有边，且再加入任意一个点都不再保证任意两点之间都有边如极大团：$\\{x_2,x_5,x_6\\}$  \n",
    "\n",
    "在每个团上定义一个属于这个团的势函数用来描述这个团中变量之间的依赖关系：  \n",
    "\n",
    "$\\qquad\\qquad\\qquad \\psi_{1,2}(x_1,x_2)=\\begin{cases} 1.5, & if\\; x_1=x_2  \\\\ 0.1, & \\text{otherwise} \\end{cases} $  \n",
    "  \n",
    "$\\qquad\\qquad\\qquad \\psi_{1,3}(x_1,x_3)=\\begin{cases} 0.2, & if\\; x_1=x_3  \\\\ 1.7, & \\text{otherwise} \\end{cases} $    \n",
    "  \n",
    "$\\qquad\\qquad\\qquad$这些势函数描述了在团一中重视x1=x2,不重视其他情况，团一中不重视x1=x2,重视其他情况。  \n",
    "  \n",
    "    \n",
    "在这个无向图中，基于这些团，和这些团上的势函数我们可以重新定义一系列变量的联合概率：  \n",
    "  \n",
    "如：$x_1=\\{1,2\\},x_2=\\{1\\},x_3=\\{1,2\\} \\;\\;$取值为$ p(x_1=1,x_2=1,x_3=1)=\\frac{ \\psi_{1,2}\\;\\;(x_1=1,x_2=1) \\psi_{1,3}\\;\\;(x_1=1,x_3=1)}{\\underset{x取值组合}{\\sum}\\;\\;\\;\\;\\psi_{1,2}\\;\\;(x_1,x_21) \\psi_{1,3}\\;\\;(x_1,x_3)}$  \n",
    "  \n",
    "    \n",
    "也就是在这个无向图中，**重新定义的联合概率为：这些变量的拆解的所有团，对应势函数的乘积**。  \n",
    "\n",
    "  \n",
    "  \n",
    "  联合变量$X=\\{x_1,x_2,\\cdots,x_n\\}$; 这个变量集的所有团构成一个集合C；那么联合概率P(X)为:  \n",
    "  \n",
    " $p(X)=\\frac{1}{Z}\\underset{Q \\in C}{\\prod}{\\psi_Q(X_Q)}$  \n",
    "   \n",
    " $Z=\\underset{x取值组合}{\\sum}\\;\\;\\;\\;\\underset{Q \\in C}{\\prod}{\\psi_Q(X_Q)}\\qquad$Z是归一化因子，用来保证概率和为1，也就是定义的概率是正确的。  \n",
    "   \n",
    "     \n",
    " <br>  \n",
    " \n",
    " 上面是用普通团定义的；而如果变量数目很多，会有很多的团数目；所以现在把普通的团变为极大团；（极大团集合$C^*$）：  \n",
    "   \n",
    "  $p(X)=\\frac{1}{Z^*}\\underset{Q \\in C^*}{\\prod}{\\psi_Q(X_Q)}$  \n",
    "   \n",
    " $Z^*=\\underset{x取值组合}{\\sum}\\;\\;\\;\\;\\underset{Q \\in C^*}{\\prod}{\\psi_Q(X_Q)}\\qquad$  \n",
    "  \n",
    " <br>  \n",
    " <br>\n",
    " \n",
    " 上面基于这个无向图，和无向图上的极大团，极大团上的势函数定义了联合概率，现在在定义条件概率：\n",
    " \n",
    "<br> \n",
    " \n",
    "首先定义分离集：  \n",
    "分离集：两个变量子集被一个中间子集分离；也就是去掉这个中间子集，这两个变量子集不再相连。如$\\{x_1,x_3\\}\\quad \\{x_2,x_5\\} \\quad \\{x_4,x_6\\}$  \n",
    "\n",
    "条件独立：若两个子集是分离集则两个子集条件独立$p(x_1,x_3,x_4,x_6|x_2,x_5)=p(x_1,x_3|x_2,x_5)p(x_4,x_6|x_2,x_5)$  \n",
    "  \n",
    "所以条件概率为：  \n",
    "\n",
    "$p(X_{1,3},X_{4,6}|X_{2,5})=p(X_{1,3}|X_{2,5})p(X_{4,6}|X_{2,5})$  \n",
    "  \n",
    "    \n",
    "$p(X_{1,3}|X_{2,5})=\\frac{p(X_{1,3},X_{2,5})}{p(X_{2,5})}$    \n"
   ]
  },
  {
   "cell_type": "code",
   "execution_count": null,
   "metadata": {},
   "outputs": [],
   "source": []
  }
 ],
 "metadata": {
  "kernelspec": {
   "display_name": "Python 3",
   "language": "python",
   "name": "python3"
  },
  "language_info": {
   "codemirror_mode": {
    "name": "ipython",
    "version": 3
   },
   "file_extension": ".py",
   "mimetype": "text/x-python",
   "name": "python",
   "nbconvert_exporter": "python",
   "pygments_lexer": "ipython3",
   "version": "3.6.10"
  }
 },
 "nbformat": 4,
 "nbformat_minor": 4
}
