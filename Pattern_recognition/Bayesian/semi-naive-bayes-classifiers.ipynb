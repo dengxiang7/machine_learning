{
 "cells": [
  {
   "cell_type": "markdown",
   "metadata": {},
   "source": [
    "### 半朴素贝叶斯分类器\n",
    "在朴素贝叶斯分类器中：由于求类条件概率P(x|c)困难，所以假设条件属性独立，但是这个假设很难成立，事物的一些属性之间往往存在很强的关联性。    \n",
    "<br>\n",
    "  \n",
    "半朴素贝叶斯分类器：只考虑一部分属性的关联性，而不考虑全部属性之间的关联性；这样不至于忽略哪些有较强依赖的属性。  \n",
    "  \n",
    "<br> \n",
    "\n",
    "独依赖估计：假设每个属性在类别之外最多仅在依赖一个其他属性。$p(x|c)=\\prod_{i=1}^dP(x_i|c)\\;\\;$改为$p(x|c)=\\prod_{i=1}^dP(x_i|c,pai)\\quad$pai为属性$x_i$的依赖属性  \n",
    "  \n",
    "  <br>  \n",
    "  \n",
    "如何确定每个属性的依赖属性：  \n",
    "SPODE:假设所有属性都依赖一个超父属性；通过交叉验证来确定超父属性。  \n",
    "\n",
    "<br>  \n",
    "\n",
    "TAN:  \n",
    "  \n",
    "    \n",
    "<br>  \n",
    "AODE:"
   ]
  },
  {
   "cell_type": "code",
   "execution_count": null,
   "metadata": {},
   "outputs": [],
   "source": []
  }
 ],
 "metadata": {
  "kernelspec": {
   "display_name": "Python 3",
   "language": "python",
   "name": "python3"
  },
  "language_info": {
   "codemirror_mode": {
    "name": "ipython",
    "version": 3
   },
   "file_extension": ".py",
   "mimetype": "text/x-python",
   "name": "python",
   "nbconvert_exporter": "python",
   "pygments_lexer": "ipython3",
   "version": "3.6.10"
  }
 },
 "nbformat": 4,
 "nbformat_minor": 4
}
