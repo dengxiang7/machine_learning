{
 "cells": [
  {
   "cell_type": "markdown",
   "metadata": {},
   "source": [
    "### 参数估计  \n",
    "对概率分布模型的参数进行估计视为参数估计。  \n",
    " \n",
    "#### 极大似然估计  \n",
    "最大似然估计ML：把待估计的参数视为确定性的量，只是取值未知。估计准则是使得产生已观测到的样本概率（密度）为最大的参数值：  \n",
    "$$\\theta^*=\\underset{\\theta}{arg \\; max}\\;p(x_1,x_2,\\cdots,x_n|\\theta)$$  \n",
    "\n",
    "<br>\n",
    "\n",
    "#### 最大后验概率估计MAP\n",
    "最大后验概率估计MAP：把待估计的参数视为符合某种先验概率分布的随机变量。估计准则是使得参数后验概率（密度）最大的参数值  \n",
    "$$\\theta^*=\\underset{\\theta}{arg \\; max}\\;p(\\theta|x_1,x_2,\\cdots,x_n)=\\underset{\\theta}{arg \\; max}\\;p(x_1,x_2,\\cdots,x_n|\\theta)P(\\theta)$$  \n",
    "  \n",
    "    \n",
    "#### 贝叶斯估计\n",
    "贝叶斯估计：把待估计的参数视为符合某种先验概率分布的随机变量。估计过程是先求出参数的后验概率密度，进而求出样本的类条件概率密度\n",
    "    "
   ]
  },
  {
   "cell_type": "code",
   "execution_count": null,
   "metadata": {},
   "outputs": [],
   "source": []
  }
 ],
 "metadata": {
  "kernelspec": {
   "display_name": "Python 3",
   "language": "python",
   "name": "python3"
  },
  "language_info": {
   "codemirror_mode": {
    "name": "ipython",
    "version": 3
   },
   "file_extension": ".py",
   "mimetype": "text/x-python",
   "name": "python",
   "nbconvert_exporter": "python",
   "pygments_lexer": "ipython3",
   "version": "3.6.10"
  }
 },
 "nbformat": 4,
 "nbformat_minor": 4
}
