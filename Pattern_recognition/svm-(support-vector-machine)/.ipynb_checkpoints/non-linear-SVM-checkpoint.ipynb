{
 "cells": [
  {
   "cell_type": "code",
   "execution_count": 55,
   "metadata": {
    "scrolled": false
   },
   "outputs": [
    {
     "name": "stdout",
     "output_type": "stream",
     "text": [
      "Accuracy = 92.5262% (1857/2007) (classification)\n",
      "线性SVM:  用时：39.302958    精度：92.526158\n",
      "Accuracy = 87.7927% (1762/2007) (classification)\n",
      "非线性SVM:  用时：49.615270    精度：87.792725\n"
     ]
    }
   ],
   "source": [
    "from mxnet.gluon import data as gdata\n",
    "import numpy as np\n",
    "import struct   #处理数据流\n",
    "from matplotlib import pyplot as plt\n",
    "import time\n",
    "from svmutil import *\n",
    "import tools as tl\n",
    "import pandas as pd\n",
    "\n",
    "\n",
    "train_label,train_img=tl.readallimgandwritedata('usps_train_5.jf','num_img.txt')\n",
    "test_label,test_img=tl.readallimgandwritedata('usps_test_4.jf','test_num_img.txt')\n",
    "#tl.showimg2(img,label)\n",
    "\n",
    "start=time.time()\n",
    "y,x=svm_read_problem('num_img.txt')\n",
    "m=svm_train(y,x,'-t 0 -c 1')\n",
    "test_y,test_x=svm_read_problem('test_num_img.txt')\n",
    "p_label, p_acc, p_val = svm_predict(test_y, test_x, m)\n",
    "end=time.time()\n",
    "off=end-start\n",
    "print('线性SVM:  用时：%f    精度：%f'%(off ,p_acc[0]))\n",
    "\n",
    "startn=time.time()\n",
    "yn,xn=svm_read_problem('num_img.txt')\n",
    "mn=svm_train(yn,xn,'-t 3 ')\n",
    "test_yn,test_xn=svm_read_problem('test_num_img.txt')\n",
    "p_labeln, p_accn, p_valn = svm_predict(test_yn, test_xn, mn)\n",
    "endn=time.time()\n",
    "offn=endn-startn\n",
    "print('非线性SVM:  用时：%f    精度：%f'%(offn ,p_accn[0]))\n",
    "\n",
    "\n",
    "\n",
    "#参数网格搜索\n",
    "# eta=0.1\n",
    "# c=0\n",
    "# optC=0\n",
    "# optacc=0\n",
    "# while (eta+c)<1:\n",
    "#     c=eta+c\n",
    "#     st='-t 0 -c '+str(c)\n",
    "#     m=svm_train(y,x,st)\n",
    "#     p_label, p_acc, p_val = svm_predict(test_y, test_x, m)\n",
    "#     if p_acc[0]>optacc:\n",
    "#         optacc=p_acc[0]\n",
    "#         optC=eta+c\n",
    "# print('最优 C:%f , 精度：%f'%(optC,optacc))\n",
    "\n",
    "\n",
    "# eta1=0.1\n",
    "# eta2=-0.1\n",
    "# g=[1,2,3,4]\n",
    "# r=[0.2, 0.4 ,0.6,0.8, 1]\n",
    "# optg=0\n",
    "# optr=0\n",
    "# optacc=0\n",
    "# for i in range (len(g)):\n",
    "    \n",
    "#     for j in range (len(r)):\n",
    "    \n",
    "#         sts='-t 3 -g '+str(g[i])+' -r '+str(r[j])+' -v 5'\n",
    "#         print(sts)\n",
    "#         ms=svm_train(y,x,sts)\n",
    "#         p_label, p_acc, p_val = svm_predict(test_y, test_x, ms)\n",
    "#         if p_acc[0]>optacc:\n",
    "#             optacc=p_acc[0]\n",
    "#             optg=g[i]\n",
    "#             optr=r[j]\n",
    "    \n",
    "# print('最优 g:%f ,最优 r:%f  精度：%f'%(optg,optr,optacc))\n",
    "\n",
    "\n"
   ]
  },
  {
   "cell_type": "code",
   "execution_count": 54,
   "metadata": {},
   "outputs": [],
   "source": [
    "#help(SVMcgForClass)"
   ]
  },
  {
   "cell_type": "code",
   "execution_count": null,
   "metadata": {
    "scrolled": false
   },
   "outputs": [],
   "source": []
  },
  {
   "cell_type": "code",
   "execution_count": null,
   "metadata": {},
   "outputs": [],
   "source": []
  }
 ],
 "metadata": {
  "kernelspec": {
   "display_name": "Python 3",
   "language": "python",
   "name": "python3"
  },
  "language_info": {
   "codemirror_mode": {
    "name": "ipython",
    "version": 3
   },
   "file_extension": ".py",
   "mimetype": "text/x-python",
   "name": "python",
   "nbconvert_exporter": "python",
   "pygments_lexer": "ipython3",
   "version": "3.6.10"
  }
 },
 "nbformat": 4,
 "nbformat_minor": 4
}
