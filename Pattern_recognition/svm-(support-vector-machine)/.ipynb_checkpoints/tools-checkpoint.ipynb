{
 "cells": [
  {
   "cell_type": "code",
   "execution_count": null,
   "metadata": {},
   "outputs": [],
   "source": [
    "def genexam():\n",
    "    z = [[[1.0, 0], [0, 8.0]],[[8.0, 0], [0, 1.0]]]\n",
    "    u=[[1.0, 10.0],[15.0, 1.0]]\n",
    "    a=[0.4,0.6]\n",
    "    x1=[]\n",
    "    x2=[]\n",
    "    for i in range(800):  \n",
    "        ui=np.random.multinomial(1,a,1)  #  按照给定的概率分布 决定 用哪个高斯分布生成样本\n",
    "        ui=ui[0]\n",
    "        if ui[0]==1:\n",
    "            x1.append((np.random.multivariate_normal(u[0], z[0],1))[0]) #生成二维正态样本  \n",
    "        if ui[1]==1:\n",
    "            x2.append((np.random.multivariate_normal(u[1], z[1],1))[0])\n",
    "    x1=(np.array(x1).T)\n",
    "    x2=(np.array(x2).T)\n",
    "    x3=np.hstack((x1,x2)).T\n",
    "    return x1,x2,x3\n",
    "\n",
    "\n",
    "x1_T,x2_T,x3_T=genexam()\n",
    "\n",
    "\n",
    "\n",
    "fp=open('x1.txt', 'wb')\n",
    "fp.write(x1_T.tostring())\n",
    "fp.close()\n",
    "\n",
    "fp=open('x2.txt', 'wb')\n",
    "fp.write(x2_T.tostring())\n",
    "fp.close()\n",
    "\n",
    "fp=open('x2.txt', 'rb')\n",
    "x2=fp.read()\n",
    "fp.close()\n",
    "x2=(np.fromstring(x2))\n",
    "print(x2)\n",
    "\n",
    "fp=open('x1.txt', 'rb')\n",
    "x1=fp.read()\n",
    "fp.close()\n",
    "x1=(np.fromstring(x1))\n",
    "print(x2.shape)\n",
    "\n",
    "\n",
    "\n",
    "#生成数据文件格式\n",
    "for i in range(len(x1_T.T)):\n",
    "    print('1   1:%f    2:%f'%((x1_T.T[i])[0],(x1_T.T[i])[1]))  \n",
    "for i in range(len(x2_T.T)):\n",
    "    print('2   1:%f    2:%f'%((x2_T.T[i])[0],(x2_T.T[i])[1]))\n",
    "    \n",
    "    \n",
    "    \n",
    "#y,x=svm_read_problem('heart_scale')\n",
    "#m=svm_train(y[:200],x[:200],'-c 4')\n",
    "#p_label,pacc,p_val=svm_predict(y[:200],x[:200],m)\n"
   ]
  }
 ],
 "metadata": {
  "kernelspec": {
   "display_name": "Python 3",
   "language": "python",
   "name": "python3"
  },
  "language_info": {
   "codemirror_mode": {
    "name": "ipython",
    "version": 3
   },
   "file_extension": ".py",
   "mimetype": "text/x-python",
   "name": "python",
   "nbconvert_exporter": "python",
   "pygments_lexer": "ipython3",
   "version": "3.6.10"
  }
 },
 "nbformat": 4,
 "nbformat_minor": 4
}
