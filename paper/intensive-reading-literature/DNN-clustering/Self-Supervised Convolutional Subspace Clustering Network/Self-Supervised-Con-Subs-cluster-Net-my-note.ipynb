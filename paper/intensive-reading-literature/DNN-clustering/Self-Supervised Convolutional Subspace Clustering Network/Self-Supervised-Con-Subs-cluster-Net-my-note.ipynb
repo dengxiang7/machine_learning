{
 "cells": [
  {
   "cell_type": "markdown",
   "metadata": {},
   "source": [
    "### 自监督卷积子空间聚类网络  (交替优化，子空间聚类)\n",
    "\n",
    "网络结构：\n",
    " \n",
    "![](img/5.PNG)  \n",
    " \n",
    "<br> \n",
    "    \n",
    "损失函数：  \n",
    "  \n",
    "  $L=L_0+\\lambda_1 L_1+\\lambda_2 L_2+\\lambda_3 L_3+\\lambda_4 L_4$  \n",
    "    \n",
    "其中：$L_0 = ||X-\\hat{X}||_F^2$ 为自编码器损失项，确保自编码器的特征提取是有效的。  \n",
    "  \n",
    "$\\qquad L_1+L_2=\\lambda||C||_l +\\frac{1}{2}||Z-ZC||_F^2$  为self-expression性质，即数据的自表达性质，从两个方面观测了聚类1、同一子空间数据相关性 2、特征空间的不同子空间角度观测了聚类结构（单独使用时，没有监督信息，效果不太理想，所以有了本文的自监督）  \n",
    "  \n",
    "$\\qquad L_3=\\frac{1}{2}\\sum_{ij}a_{ij}||q_i-q_j||_2^2=\\sum_{ij}|c_{ij}|\\frac{||q_i-q_j||_2^2}{2} :=||C||_Q$（:=是相当于符号） ，用self-expression性质得到的C,进行谱聚类。  \n",
    "  \n",
    "$\\qquad L_4=\\frac{1}{N} \\sum_{j=1}^N \\left(ln\\left(1+e^{-\\hat{y}_j^Tq_j}\\right)+\\tau||y_j-\\mu_{\\pi(y_j)}||_2^2 \\right)$ 对特征进行监督。用谱聚类产生的监督提取的特征，（用谱聚类的结果来训练卷积自编码器）第一项是交叉熵，第二项是压缩内部聚类的方差\n",
    "  \n",
    "    \n",
    "<br>  \n",
    "  \n",
    "\n",
    "<br>  \n",
    "\n",
    "#### 算法流程  \n",
    "  \n",
    "  分为两步：  \n",
    "  \n",
    "1、用$L_0$预训练卷积自编码器  \n",
    "2、第二步用L训练整个损失函数（交替优化）  \n",
    "$\\qquad\\quad 1、固定谱聚类参数Q，更新其他参数$  \n",
    "$\\qquad\\quad 2、固定其他参数，更新聚类参数Q$ \n",
    "\n",
    "  \n",
    "    \n",
    "<br>  \n",
    "  \n",
    "\n",
    "<br>  \n",
    "  \n",
    "<br>  \n",
    "  \n",
    "#### 中心思想  \n",
    "\n",
    "  \n",
    "  子空间聚类：需要有效的子空间特征。（因为实际数据可能不符合线性子空间模型）。解决方法是：使用self-expression性质。这个性质需要有效的特征。而卷积神经网络能提取有效的特征。这是一方面，另一方面直接对特征进行分类，把谱聚类得到的聚类结果作为监督信息。  从这两方面保证提取的特征和子空间有利于聚类。 保证方法：交替优化，相互促进。\n",
    "  "
   ]
  },
  {
   "cell_type": "code",
   "execution_count": null,
   "metadata": {},
   "outputs": [],
   "source": []
  }
 ],
 "metadata": {
  "kernelspec": {
   "display_name": "Python 3",
   "language": "python",
   "name": "python3"
  },
  "language_info": {
   "codemirror_mode": {
    "name": "ipython",
    "version": 3
   },
   "file_extension": ".py",
   "mimetype": "text/x-python",
   "name": "python",
   "nbconvert_exporter": "python",
   "pygments_lexer": "ipython3",
   "version": "3.7.6"
  }
 },
 "nbformat": 4,
 "nbformat_minor": 4
}
