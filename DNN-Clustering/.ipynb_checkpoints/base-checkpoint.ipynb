{
 "cells": [
  {
   "cell_type": "markdown",
   "metadata": {},
   "source": [
    "###  深度学习去做聚类  \n",
    "  \n",
    "  传统的图像聚类分为两步：一个是特征学习，一个是图像聚类。现有研究表明：把两步同一到一起学习，会又更好的表现。  \n",
    "       \n",
    " <br>      \n",
    "   \n",
    " 使用深度网络做聚类现在大致可以分为两类：  \n",
    "   \n",
    " 1、在DNN学得得表示上应用聚类方法  \n",
    "   \n",
    " 2、联合优化深度表示学习和聚类目标的统一方法    \n",
    "   \n",
    "<br>  \n",
    "  \n",
    "* 第一类：  \n",
    "  \n",
    "  首先训练一个深度神经网络，用来从原生空间以一种非线性的方法嵌入到低维特征空间。之后就可以采用传统的聚类方法（如k-均值或谱聚类或凝聚聚类方法）对低维特征空间进行划分。  \n",
    "    \n",
    "   其缺点：由于深度学习表征的过程和聚类过程互相分离，可能导致学到的低维特征对聚类过程来说并不是特别可靠。 \n",
    "    \n",
    "      \n",
    "* 第二类：  \n",
    "  \n",
    "  第二类解决了降维过程和聚类过程相互分离的问题。  这一类的思想是：好的特征表示有利于聚类结果，相反的正确的聚类结果能为特征学习提供监督信号  \n",
    "    \n",
    "  因此这类方法的关键是：设计一个合适的表征学习模型和设计一个合适的统一学习目标这两个因素将极大地影响这些方法的性能。  \n",
    "    \n",
    "<br>     "
   ]
  },
  {
   "cell_type": "code",
   "execution_count": null,
   "metadata": {},
   "outputs": [],
   "source": []
  }
 ],
 "metadata": {
  "kernelspec": {
   "display_name": "Python 3",
   "language": "python",
   "name": "python3"
  },
  "language_info": {
   "codemirror_mode": {
    "name": "ipython",
    "version": 3
   },
   "file_extension": ".py",
   "mimetype": "text/x-python",
   "name": "python",
   "nbconvert_exporter": "python",
   "pygments_lexer": "ipython3",
   "version": "3.7.6"
  }
 },
 "nbformat": 4,
 "nbformat_minor": 4
}
